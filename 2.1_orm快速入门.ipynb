{
 "cells": [
  {
   "cell_type": "markdown",
   "source": [
    "## 声明模型"
   ],
   "metadata": {
    "collapsed": false
   },
   "id": "f5b1e56a62fdc453"
  },
  {
   "cell_type": "code",
   "execution_count": 40,
   "outputs": [],
   "source": [
    "from typing import List\n",
    "from typing import Optional\n",
    "from sqlalchemy import ForeignKey\n",
    "from sqlalchemy import String\n",
    "from sqlalchemy.orm import DeclarativeBase\n",
    "from sqlalchemy.orm import Mapped\n",
    "from sqlalchemy.orm import mapped_column\n",
    "from sqlalchemy.orm import relationship"
   ],
   "metadata": {
    "collapsed": false,
    "ExecuteTime": {
     "end_time": "2024-12-30T13:47:15.091972900Z",
     "start_time": "2024-12-30T13:47:15.077254500Z"
    }
   },
   "id": "7ee458abd0eea19a"
  },
  {
   "cell_type": "code",
   "execution_count": 41,
   "outputs": [],
   "source": [
    "class Base(DeclarativeBase):\n",
    "    pass"
   ],
   "metadata": {
    "collapsed": false,
    "ExecuteTime": {
     "end_time": "2024-12-30T13:47:15.670799600Z",
     "start_time": "2024-12-30T13:47:15.656765300Z"
    }
   },
   "id": "3bdf928ec6585959"
  },
  {
   "cell_type": "code",
   "execution_count": 42,
   "outputs": [],
   "source": [
    "class User(Base):\n",
    "    __tablename__ = \"user_account\"\n",
    "    id: Mapped[int] = mapped_column(primary_key=True)\n",
    "    name: Mapped[str] = mapped_column(String(30))\n",
    "    fullname: Mapped[Optional[str]]\n",
    "    addresses: Mapped[List[\"Address\"]] = relationship(\n",
    "        back_populates=\"user\", cascade=\"all, delete-orphan\"\n",
    "    )\n",
    "    def __repr__(self) -> str:\n",
    "        return f\"User(id={self.id!r}, name={self.name!r}, fullname={self.fullname!r})\""
   ],
   "metadata": {
    "collapsed": false,
    "ExecuteTime": {
     "end_time": "2024-12-30T13:47:16.760255100Z",
     "start_time": "2024-12-30T13:47:16.726114300Z"
    }
   },
   "id": "bb918979069482f0"
  },
  {
   "cell_type": "code",
   "execution_count": 43,
   "outputs": [],
   "source": [
    "\n",
    "class Address(Base):\n",
    "    __tablename__ = \"address\"\n",
    "    id: Mapped[int] = mapped_column(primary_key=True)\n",
    "    email_address: Mapped[str]\n",
    "    user_id: Mapped[int] = mapped_column(ForeignKey(\"user_account.id\"))\n",
    "    user: Mapped[\"User\"] = relationship(back_populates=\"addresses\")\n",
    "    def __repr__(self) -> str:\n",
    "        return f\"Address(id={self.id!r}, email_address={self.email_address!r})\""
   ],
   "metadata": {
    "collapsed": false,
    "ExecuteTime": {
     "end_time": "2024-12-30T13:47:17.576742400Z",
     "start_time": "2024-12-30T13:47:17.568563100Z"
    }
   },
   "id": "a886a2e6629cad3b"
  },
  {
   "cell_type": "markdown",
   "source": [
    "## 创建引擎"
   ],
   "metadata": {
    "collapsed": false
   },
   "id": "bbb7b10924db4437"
  },
  {
   "cell_type": "code",
   "execution_count": 44,
   "outputs": [],
   "source": [
    "from sqlalchemy import create_engine\n",
    "engine = create_engine(\"sqlite+pysqlite:///database.sqlite\", echo=True)\n",
    "# engine = create_engine(\"sqlite://\", echo=True)\n",
    "# echo=True参数表示连接发出的 SQL 将记录到标准输出。"
   ],
   "metadata": {
    "collapsed": false,
    "ExecuteTime": {
     "end_time": "2024-12-30T13:47:19.638646800Z",
     "start_time": "2024-12-30T13:47:19.619558800Z"
    }
   },
   "id": "2bbf4971c6dda253"
  },
  {
   "cell_type": "code",
   "execution_count": 45,
   "outputs": [
    {
     "name": "stdout",
     "output_type": "stream",
     "text": [
      "2024-12-30 21:47:22,579 INFO sqlalchemy.engine.Engine BEGIN (implicit)\n",
      "2024-12-30 21:47:22,581 INFO sqlalchemy.engine.Engine PRAGMA main.table_info(\"user_account\")\n",
      "2024-12-30 21:47:22,581 INFO sqlalchemy.engine.Engine [raw sql] ()\n",
      "2024-12-30 21:47:22,582 INFO sqlalchemy.engine.Engine PRAGMA main.table_info(\"address\")\n",
      "2024-12-30 21:47:22,582 INFO sqlalchemy.engine.Engine [raw sql] ()\n",
      "2024-12-30 21:47:22,583 INFO sqlalchemy.engine.Engine COMMIT\n"
     ]
    }
   ],
   "source": [
    "# 发出创建表 DDL\n",
    "Base.metadata.create_all(engine)"
   ],
   "metadata": {
    "collapsed": false,
    "ExecuteTime": {
     "end_time": "2024-12-30T13:47:22.593057Z",
     "start_time": "2024-12-30T13:47:22.579870Z"
    }
   },
   "id": "e4ffc8cf2d4027b6"
  },
  {
   "cell_type": "code",
   "execution_count": 46,
   "outputs": [
    {
     "name": "stdout",
     "output_type": "stream",
     "text": [
      "2024-12-30 21:47:32,905 INFO sqlalchemy.engine.Engine BEGIN (implicit)\n",
      "2024-12-30 21:47:32,906 INFO sqlalchemy.engine.Engine INSERT INTO user_account (name, fullname) VALUES (?, ?) RETURNING id\n",
      "2024-12-30 21:47:32,908 INFO sqlalchemy.engine.Engine [generated in 0.00007s (insertmanyvalues) 1/3 (ordered; batch not supported)] ('spongebob', 'Spongebob Squarepants')\n",
      "2024-12-30 21:47:32,909 INFO sqlalchemy.engine.Engine INSERT INTO user_account (name, fullname) VALUES (?, ?) RETURNING id\n",
      "2024-12-30 21:47:32,909 INFO sqlalchemy.engine.Engine [insertmanyvalues 2/3 (ordered; batch not supported)] ('sandy', 'Sandy Cheeks')\n",
      "2024-12-30 21:47:32,910 INFO sqlalchemy.engine.Engine INSERT INTO user_account (name, fullname) VALUES (?, ?) RETURNING id\n",
      "2024-12-30 21:47:32,910 INFO sqlalchemy.engine.Engine [insertmanyvalues 3/3 (ordered; batch not supported)] ('patrick', 'Patrick Star')\n",
      "2024-12-30 21:47:32,911 INFO sqlalchemy.engine.Engine INSERT INTO address (email_address, user_id) VALUES (?, ?) RETURNING id\n",
      "2024-12-30 21:47:32,911 INFO sqlalchemy.engine.Engine [generated in 0.00005s (insertmanyvalues) 1/3 (ordered; batch not supported)] ('spongebob@sqlalchemy.org', 1)\n",
      "2024-12-30 21:47:32,912 INFO sqlalchemy.engine.Engine INSERT INTO address (email_address, user_id) VALUES (?, ?) RETURNING id\n",
      "2024-12-30 21:47:32,913 INFO sqlalchemy.engine.Engine [insertmanyvalues 2/3 (ordered; batch not supported)] ('sandy@sqlalchemy.org', 2)\n",
      "2024-12-30 21:47:32,913 INFO sqlalchemy.engine.Engine INSERT INTO address (email_address, user_id) VALUES (?, ?) RETURNING id\n",
      "2024-12-30 21:47:32,913 INFO sqlalchemy.engine.Engine [insertmanyvalues 3/3 (ordered; batch not supported)] ('sandy@squirrelpower.org', 2)\n",
      "2024-12-30 21:47:32,915 INFO sqlalchemy.engine.Engine COMMIT\n"
     ]
    }
   ],
   "source": [
    "## 创建对象并持久化\n",
    "from sqlalchemy.orm import Session\n",
    "\n",
    "with Session(engine) as session:\n",
    "    spongebob = User(\n",
    "        name=\"spongebob\",\n",
    "        fullname=\"Spongebob Squarepants\",\n",
    "        addresses=[Address(email_address=\"spongebob@sqlalchemy.org\")],\n",
    "    )\n",
    "    sandy = User(\n",
    "        name=\"sandy\",\n",
    "        fullname=\"Sandy Cheeks\",\n",
    "        addresses=[\n",
    "            Address(email_address=\"sandy@sqlalchemy.org\"),\n",
    "            Address(email_address=\"sandy@squirrelpower.org\"),\n",
    "        ],\n",
    "    )\n",
    "    patrick = User(name=\"patrick\", fullname=\"Patrick Star\")\n",
    "    session.add_all([spongebob, sandy, patrick])\n",
    "    session.commit()"
   ],
   "metadata": {
    "collapsed": false,
    "ExecuteTime": {
     "end_time": "2024-12-30T13:47:32.926211200Z",
     "start_time": "2024-12-30T13:47:32.904834800Z"
    }
   },
   "id": "2431c88d0711fc74"
  },
  {
   "cell_type": "code",
   "execution_count": 47,
   "outputs": [
    {
     "name": "stdout",
     "output_type": "stream",
     "text": [
      "2024-12-30 21:48:07,518 INFO sqlalchemy.engine.Engine BEGIN (implicit)\n",
      "2024-12-30 21:48:07,519 INFO sqlalchemy.engine.Engine SELECT user_account.id, user_account.name, user_account.fullname \n",
      "FROM user_account \n",
      "WHERE user_account.name IN (?, ?)\n",
      "2024-12-30 21:48:07,520 INFO sqlalchemy.engine.Engine [generated in 0.00052s] ('spongebob', 'sandy')\n",
      "User(id=1, name='spongebob', fullname='Spongebob Squarepants')\n",
      "User(id=2, name='sandy', fullname='Sandy Cheeks')\n"
     ]
    }
   ],
   "source": [
    "from sqlalchemy import select\n",
    "session = Session(engine)\n",
    "stmt = select(User).where(User.name.in_(['spongebob', 'sandy']))\n",
    "for user in session.scalars(stmt):\n",
    "    print(user)"
   ],
   "metadata": {
    "collapsed": false,
    "ExecuteTime": {
     "end_time": "2024-12-30T13:48:07.527967Z",
     "start_time": "2024-12-30T13:48:07.518748200Z"
    }
   },
   "id": "95c16d14fabb6659"
  },
  {
   "cell_type": "code",
   "execution_count": 48,
   "outputs": [
    {
     "name": "stdout",
     "output_type": "stream",
     "text": [
      "SELECT address.id, address.email_address, address.user_id \n",
      "FROM address JOIN user_account ON user_account.id = address.user_id \n",
      "WHERE user_account.name = :name_1 AND address.email_address = :email_address_1\n"
     ]
    }
   ],
   "source": [
    "# 使用连接进行选择\n",
    "stmt = (\n",
    "    select(Address)\n",
    "    .join(Address.user)\n",
    "    .where(User.name == 'sandy')\n",
    "    .where(Address.email_address == 'sandy@sqlalchemy.org')\n",
    ")\n",
    "print(stmt)"
   ],
   "metadata": {
    "collapsed": false,
    "ExecuteTime": {
     "end_time": "2024-12-30T13:48:10.608988700Z",
     "start_time": "2024-12-30T13:48:10.596988400Z"
    }
   },
   "id": "bb89e528a3f47f7c"
  },
  {
   "cell_type": "code",
   "execution_count": 50,
   "outputs": [
    {
     "name": "stdout",
     "output_type": "stream",
     "text": [
      "2024-12-30 21:48:38,221 INFO sqlalchemy.engine.Engine SELECT address.id, address.email_address, address.user_id \n",
      "FROM address JOIN user_account ON user_account.id = address.user_id \n",
      "WHERE user_account.name = ? AND address.email_address = ?\n",
      "2024-12-30 21:48:38,222 INFO sqlalchemy.engine.Engine [cached since 25.54s ago] ('sandy', 'sandy@sqlalchemy.org')\n"
     ]
    },
    {
     "data": {
      "text/plain": "Address(id=2, email_address='sandy@sqlalchemy.org')"
     },
     "execution_count": 50,
     "metadata": {},
     "output_type": "execute_result"
    }
   ],
   "source": [
    "sandy_address = session.scalars(stmt).one()\n",
    "sandy_address"
   ],
   "metadata": {
    "collapsed": false,
    "ExecuteTime": {
     "end_time": "2024-12-30T13:48:38.242496500Z",
     "start_time": "2024-12-30T13:48:38.221375800Z"
    }
   },
   "id": "41b16abada40c667"
  },
  {
   "cell_type": "code",
   "execution_count": 52,
   "outputs": [
    {
     "name": "stdout",
     "output_type": "stream",
     "text": [
      "2024-12-30 21:48:59,730 INFO sqlalchemy.engine.Engine SELECT user_account.id, user_account.name, user_account.fullname \n",
      "FROM user_account \n",
      "WHERE user_account.name = ?\n",
      "2024-12-30 21:48:59,730 INFO sqlalchemy.engine.Engine [generated in 0.00055s] ('patrick',)\n"
     ]
    },
    {
     "data": {
      "text/plain": "User(id=3, name='patrick', fullname='Patrick Star')"
     },
     "execution_count": 52,
     "metadata": {},
     "output_type": "execute_result"
    }
   ],
   "source": [
    "# 进行更改\n",
    "stmt = select(User).where(User.name == \"patrick\")\n",
    "patrick = session.scalars(stmt).one()\n",
    "patrick"
   ],
   "metadata": {
    "collapsed": false,
    "ExecuteTime": {
     "end_time": "2024-12-30T13:48:59.744998700Z",
     "start_time": "2024-12-30T13:48:59.730861200Z"
    }
   },
   "id": "cda3a43d4d8c0e32"
  },
  {
   "cell_type": "code",
   "execution_count": 53,
   "outputs": [
    {
     "name": "stdout",
     "output_type": "stream",
     "text": [
      "2024-12-30 21:49:12,147 INFO sqlalchemy.engine.Engine SELECT address.id AS address_id, address.email_address AS address_email_address, address.user_id AS address_user_id \n",
      "FROM address \n",
      "WHERE ? = address.user_id\n",
      "2024-12-30 21:49:12,147 INFO sqlalchemy.engine.Engine [generated in 0.00074s] (3,)\n"
     ]
    }
   ],
   "source": [
    "patrick.addresses.append(Address(email_address=\"patrickstar@sqlalchemy.org\"))"
   ],
   "metadata": {
    "collapsed": false,
    "ExecuteTime": {
     "end_time": "2024-12-30T13:49:12.156204900Z",
     "start_time": "2024-12-30T13:49:12.146282300Z"
    }
   },
   "id": "9bd35687ae997018"
  },
  {
   "cell_type": "code",
   "execution_count": 54,
   "outputs": [],
   "source": [
    "sandy_address.email_address = \"sandy_cheeks@sqlalchemy.org\""
   ],
   "metadata": {
    "collapsed": false,
    "ExecuteTime": {
     "end_time": "2024-12-30T13:49:24.607171Z",
     "start_time": "2024-12-30T13:49:24.593622400Z"
    }
   },
   "id": "4489adfe5da2b91a"
  },
  {
   "cell_type": "code",
   "execution_count": 55,
   "outputs": [
    {
     "name": "stdout",
     "output_type": "stream",
     "text": [
      "2024-12-30 21:49:25,664 INFO sqlalchemy.engine.Engine UPDATE address SET email_address=? WHERE address.id = ?\n",
      "2024-12-30 21:49:25,664 INFO sqlalchemy.engine.Engine [generated in 0.00080s] ('sandy_cheeks@sqlalchemy.org', 2)\n",
      "2024-12-30 21:49:25,666 INFO sqlalchemy.engine.Engine INSERT INTO address (email_address, user_id) VALUES (?, ?)\n",
      "2024-12-30 21:49:25,667 INFO sqlalchemy.engine.Engine [generated in 0.00083s] ('patrickstar@sqlalchemy.org', 3)\n",
      "2024-12-30 21:49:25,667 INFO sqlalchemy.engine.Engine COMMIT\n"
     ]
    }
   ],
   "source": [
    "session.commit()"
   ],
   "metadata": {
    "collapsed": false,
    "ExecuteTime": {
     "end_time": "2024-12-30T13:49:25.682772200Z",
     "start_time": "2024-12-30T13:49:25.664243300Z"
    }
   },
   "id": "8ad1ef3a6299a933"
  },
  {
   "cell_type": "code",
   "execution_count": 64,
   "outputs": [
    {
     "name": "stdout",
     "output_type": "stream",
     "text": [
      "User(id=2, name='sandy', fullname='Sandy Cheeks')\n",
      "[Address(id=3, email_address='sandy@squirrelpower.org')]\n",
      "Address(id=2, email_address='sandy_cheeks@sqlalchemy.org')\n"
     ]
    }
   ],
   "source": [
    "# 一些删除\n",
    "sandy = session.get(User, 2)\n",
    "print(sandy)\n",
    "print(sandy.addresses)\n",
    "print(sandy_address)"
   ],
   "metadata": {
    "collapsed": false,
    "ExecuteTime": {
     "end_time": "2024-12-30T13:51:15.016850200Z",
     "start_time": "2024-12-30T13:51:15.006850400Z"
    }
   },
   "id": "1ae7a814585480dc"
  },
  {
   "cell_type": "code",
   "execution_count": 72,
   "outputs": [],
   "source": [
    "# sandy.addresses.remove(sandy_address)"
   ],
   "metadata": {
    "collapsed": false,
    "ExecuteTime": {
     "end_time": "2024-12-30T14:01:28.030091700Z",
     "start_time": "2024-12-30T14:01:28.018805500Z"
    }
   },
   "id": "f1e3b7b7c0ef2da9"
  },
  {
   "cell_type": "code",
   "execution_count": 67,
   "outputs": [
    {
     "name": "stdout",
     "output_type": "stream",
     "text": [
      "2024-12-30 21:55:23,918 INFO sqlalchemy.engine.Engine SELECT user_account.id, user_account.name, user_account.fullname \n",
      "FROM user_account \n",
      "WHERE user_account.id = ?\n",
      "2024-12-30 21:55:23,919 INFO sqlalchemy.engine.Engine [cached since 20.09s ago] (2,)\n"
     ]
    },
    {
     "data": {
      "text/plain": "[Address(id=3, email_address='sandy@squirrelpower.org')]"
     },
     "execution_count": 67,
     "metadata": {},
     "output_type": "execute_result"
    }
   ],
   "source": [
    "stmt = select(User).where(User.id == 2)\n",
    "result = session.execute(stmt).scalars().one()\n",
    "result.addresses"
   ],
   "metadata": {
    "collapsed": false,
    "ExecuteTime": {
     "end_time": "2024-12-30T13:55:23.951060200Z",
     "start_time": "2024-12-30T13:55:23.918544200Z"
    }
   },
   "id": "bcc184095a63d6c5"
  },
  {
   "cell_type": "code",
   "execution_count": 70,
   "outputs": [
    {
     "name": "stdout",
     "output_type": "stream",
     "text": [
      "2024-12-30 22:00:30,306 INFO sqlalchemy.engine.Engine SELECT anon_1.user_account_id AS anon_1_user_account_id, anon_1.user_account_name AS anon_1_user_account_name, anon_1.user_account_fullname AS anon_1_user_account_fullname, address_1.id AS address_1_id, address_1.email_address AS address_1_email_address, address_1.user_id AS address_1_user_id \n",
      "FROM (SELECT user_account.id AS user_account_id, user_account.name AS user_account_name, user_account.fullname AS user_account_fullname \n",
      "FROM user_account \n",
      "WHERE user_account.id = ?\n",
      " LIMIT ? OFFSET ?) AS anon_1 LEFT OUTER JOIN address AS address_1 ON anon_1.user_account_id = address_1.user_id\n",
      "2024-12-30 22:00:30,306 INFO sqlalchemy.engine.Engine [cached since 48.7s ago] (2, 1, 0)\n",
      "User(id=2, name='sandy', fullname='Sandy Cheeks')\n",
      "[Address(id=3, email_address='sandy@squirrelpower.org')]\n"
     ]
    }
   ],
   "source": [
    "from sqlalchemy.orm import joinedload\n",
    "\n",
    "user = session.query(User).options(joinedload(User.addresses)).filter(User.id == 2).first()\n",
    "print(user)\n",
    "print(user.addresses)"
   ],
   "metadata": {
    "collapsed": false,
    "ExecuteTime": {
     "end_time": "2024-12-30T14:00:30.330203200Z",
     "start_time": "2024-12-30T14:00:30.306008900Z"
    }
   },
   "id": "f617fcd23c59c1c8"
  },
  {
   "cell_type": "code",
   "execution_count": 71,
   "outputs": [
    {
     "name": "stdout",
     "output_type": "stream",
     "text": [
      "2024-12-30 22:01:08,493 INFO sqlalchemy.engine.Engine COMMIT\n"
     ]
    }
   ],
   "source": [
    "session.commit()"
   ],
   "metadata": {
    "collapsed": false,
    "ExecuteTime": {
     "end_time": "2024-12-30T14:01:08.508620500Z",
     "start_time": "2024-12-30T14:01:08.494996800Z"
    }
   },
   "id": "8e08fc1ff9242ca2"
  },
  {
   "cell_type": "code",
   "execution_count": 73,
   "outputs": [
    {
     "name": "stdout",
     "output_type": "stream",
     "text": [
      "2024-12-30 22:02:15,991 INFO sqlalchemy.engine.Engine SELECT address.id AS address_id, address.email_address AS address_email_address, address.user_id AS address_user_id \n",
      "FROM address \n",
      "WHERE ? = address.user_id\n",
      "2024-12-30 22:02:15,992 INFO sqlalchemy.engine.Engine [cached since 783.8s ago] (3,)\n"
     ]
    }
   ],
   "source": [
    "session.delete(patrick)"
   ],
   "metadata": {
    "collapsed": false,
    "ExecuteTime": {
     "end_time": "2024-12-30T14:02:16.013104400Z",
     "start_time": "2024-12-30T14:02:15.992360800Z"
    }
   },
   "id": "373af61ec7d845f1"
  },
  {
   "cell_type": "code",
   "execution_count": 74,
   "outputs": [
    {
     "name": "stdout",
     "output_type": "stream",
     "text": [
      "2024-12-30 22:03:10,273 INFO sqlalchemy.engine.Engine DELETE FROM address WHERE address.id = ?\n",
      "2024-12-30 22:03:10,274 INFO sqlalchemy.engine.Engine [cached since 486.4s ago] (4,)\n",
      "2024-12-30 22:03:10,275 INFO sqlalchemy.engine.Engine DELETE FROM user_account WHERE user_account.id = ?\n",
      "2024-12-30 22:03:10,276 INFO sqlalchemy.engine.Engine [generated in 0.00052s] (3,)\n",
      "2024-12-30 22:03:10,276 INFO sqlalchemy.engine.Engine COMMIT\n"
     ]
    }
   ],
   "source": [
    "session.commit()"
   ],
   "metadata": {
    "collapsed": false,
    "ExecuteTime": {
     "end_time": "2024-12-30T14:03:10.289882800Z",
     "start_time": "2024-12-30T14:03:10.273136200Z"
    }
   },
   "id": "58a342d86bb38f26"
  },
  {
   "cell_type": "code",
   "execution_count": null,
   "outputs": [],
   "source": [],
   "metadata": {
    "collapsed": false
   },
   "id": "ee18e42b909248ef"
  }
 ],
 "metadata": {
  "kernelspec": {
   "display_name": "Python 3",
   "language": "python",
   "name": "python3"
  },
  "language_info": {
   "codemirror_mode": {
    "name": "ipython",
    "version": 2
   },
   "file_extension": ".py",
   "mimetype": "text/x-python",
   "name": "python",
   "nbconvert_exporter": "python",
   "pygments_lexer": "ipython2",
   "version": "2.7.6"
  }
 },
 "nbformat": 4,
 "nbformat_minor": 5
}
