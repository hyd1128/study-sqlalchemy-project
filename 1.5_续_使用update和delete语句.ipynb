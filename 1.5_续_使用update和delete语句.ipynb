{
 "cells": [
  {
   "cell_type": "code",
   "execution_count": 3,
   "id": "initial_id",
   "metadata": {
    "collapsed": true,
    "ExecuteTime": {
     "end_time": "2024-12-25T07:00:35.385619900Z",
     "start_time": "2024-12-25T07:00:35.361086900Z"
    }
   },
   "outputs": [],
   "source": [
    "from sqlalchemy import create_engine\n",
    "\n",
    "engine = create_engine(\"sqlite+pysqlite:///database.sqlite\", echo=True)"
   ]
  },
  {
   "cell_type": "code",
   "execution_count": 5,
   "outputs": [],
   "source": [
    "from sqlalchemy import MetaData\n",
    "\n",
    "metadata_obj = MetaData()"
   ],
   "metadata": {
    "collapsed": false,
    "ExecuteTime": {
     "end_time": "2024-12-25T07:00:36.881065300Z",
     "start_time": "2024-12-25T07:00:36.862160200Z"
    }
   },
   "id": "6098345995cc98c1"
  },
  {
   "cell_type": "code",
   "execution_count": 6,
   "outputs": [],
   "source": [
    "from sqlalchemy import Table, Column, Integer, String\n",
    "\n",
    "user_table = Table(\n",
    "    \"user_account\",\n",
    "    metadata_obj,\n",
    "    Column(\"id\", Integer, primary_key=True),\n",
    "    Column(\"name\", String(30)),\n",
    "    Column(\"fullname\", String),\n",
    "    extend_existing=True\n",
    ")"
   ],
   "metadata": {
    "collapsed": false,
    "ExecuteTime": {
     "end_time": "2024-12-25T07:00:38.253904700Z",
     "start_time": "2024-12-25T07:00:38.240538600Z"
    }
   },
   "id": "31b414eb944d4b68"
  },
  {
   "cell_type": "code",
   "execution_count": 7,
   "outputs": [],
   "source": [
    "from sqlalchemy import ForeignKey\n",
    "\n",
    "address_table = Table(\n",
    "    \"address\",\n",
    "    metadata_obj,\n",
    "    Column(\"id\", Integer, primary_key=True),\n",
    "    Column(\"user_id\", ForeignKey(\"user_account.id\"), nullable=False),\n",
    "    Column(\"email_address\", String, nullable=False),\n",
    "    extend_existing=True\n",
    ")"
   ],
   "metadata": {
    "collapsed": false,
    "ExecuteTime": {
     "end_time": "2024-12-25T07:00:41.029864400Z",
     "start_time": "2024-12-25T07:00:41.023863400Z"
    }
   },
   "id": "fe83b9608c4e8c66"
  },
  {
   "cell_type": "code",
   "execution_count": 8,
   "outputs": [
    {
     "name": "stdout",
     "output_type": "stream",
     "text": [
      "UPDATE user_account SET fullname=:fullname WHERE user_account.name = :name_1\n"
     ]
    }
   ],
   "source": [
    "from sqlalchemy import update\n",
    "\n",
    "stmt = (\n",
    "    update(user_table)\n",
    "    .where(user_table.c.name == \"patrick\")\n",
    "    .values(fullname=\"Patrick the Star\")\n",
    ")\n",
    "print(stmt)"
   ],
   "metadata": {
    "collapsed": false,
    "ExecuteTime": {
     "end_time": "2024-12-25T07:00:46.913898600Z",
     "start_time": "2024-12-25T07:00:46.905070500Z"
    }
   },
   "id": "b7d4a2b9bed0150c"
  },
  {
   "cell_type": "code",
   "execution_count": 9,
   "outputs": [
    {
     "name": "stdout",
     "output_type": "stream",
     "text": [
      "UPDATE user_account SET fullname=(:name_1 || user_account.name)\n"
     ]
    }
   ],
   "source": [
    "stmt = update(user_table).values(fullname=\"Username: \" + user_table.c.name)\n",
    "print(stmt)"
   ],
   "metadata": {
    "collapsed": false,
    "ExecuteTime": {
     "end_time": "2024-12-25T07:01:13.583641700Z",
     "start_time": "2024-12-25T07:01:13.567639800Z"
    }
   },
   "id": "4a19cca6f9b2a511"
  },
  {
   "cell_type": "code",
   "execution_count": 12,
   "outputs": [
    {
     "name": "stdout",
     "output_type": "stream",
     "text": [
      "UPDATE user_account SET name=:newname WHERE user_account.name = :oldname\n"
     ]
    }
   ],
   "source": [
    "from sqlalchemy import bindparam\n",
    "\n",
    "stmt = (\n",
    "    update(user_table)\n",
    "    .where(user_table.c.name == bindparam(\"oldname\"))\n",
    "    .values(name=bindparam(\"newname\"))\n",
    ")\n",
    "print(stmt)"
   ],
   "metadata": {
    "collapsed": false,
    "ExecuteTime": {
     "end_time": "2024-12-25T07:02:22.752232800Z",
     "start_time": "2024-12-25T07:02:22.738234400Z"
    }
   },
   "id": "e5d76b5b33667a36"
  },
  {
   "cell_type": "code",
   "execution_count": 14,
   "outputs": [
    {
     "name": "stdout",
     "output_type": "stream",
     "text": [
      "2024-12-25 15:02:35,367 INFO sqlalchemy.engine.Engine BEGIN (implicit)\n",
      "2024-12-25 15:02:35,368 INFO sqlalchemy.engine.Engine UPDATE user_account SET name=? WHERE user_account.name = ?\n",
      "2024-12-25 15:02:35,369 INFO sqlalchemy.engine.Engine [cached since 11.64s ago] [('ed', 'jack'), ('mary', 'wendy'), ('jake', 'jim')]\n",
      "2024-12-25 15:02:35,370 INFO sqlalchemy.engine.Engine COMMIT\n"
     ]
    }
   ],
   "source": [
    "with engine.begin() as conn:\n",
    "    conn.execute(\n",
    "        stmt,\n",
    "        [\n",
    "            {\"oldname\": \"jack\", \"newname\": \"ed\"},\n",
    "            {\"oldname\": \"wendy\", \"newname\": \"mary\"},\n",
    "            {\"oldname\": \"jim\", \"newname\": \"jake\"},\n",
    "        ],\n",
    "    )"
   ],
   "metadata": {
    "collapsed": false,
    "ExecuteTime": {
     "end_time": "2024-12-25T07:02:35.381041300Z",
     "start_time": "2024-12-25T07:02:35.367686300Z"
    }
   },
   "id": "28eda223b1f8942"
  },
  {
   "cell_type": "code",
   "execution_count": 16,
   "outputs": [
    {
     "name": "stdout",
     "output_type": "stream",
     "text": [
      "UPDATE user_account SET fullname=(SELECT address.email_address \n",
      "FROM address \n",
      "WHERE address.user_id = user_account.id ORDER BY address.id\n",
      " LIMIT :param_1)\n"
     ]
    }
   ],
   "source": [
    "from sqlalchemy import select\n",
    "\n",
    "scalar_subq = (\n",
    "    select(address_table.c.email_address)\n",
    "    .where(address_table.c.user_id == user_table.c.id)\n",
    "    .order_by(address_table.c.id)\n",
    "    .limit(1)\n",
    "    .scalar_subquery()\n",
    ")\n",
    "update_stmt = update(user_table).values(fullname=scalar_subq)\n",
    "print(update_stmt)"
   ],
   "metadata": {
    "collapsed": false,
    "ExecuteTime": {
     "end_time": "2024-12-25T07:04:17.575622700Z",
     "start_time": "2024-12-25T07:04:17.565319100Z"
    }
   },
   "id": "f6ddfa468c41489d"
  },
  {
   "cell_type": "code",
   "execution_count": 17,
   "outputs": [
    {
     "name": "stdout",
     "output_type": "stream",
     "text": [
      "UPDATE user_account SET fullname=:fullname FROM address WHERE user_account.id = address.user_id AND address.email_address = :email_address_1\n"
     ]
    }
   ],
   "source": [
    "update_stmt = (\n",
    "    update(user_table)\n",
    "    .where(user_table.c.id == address_table.c.user_id)\n",
    "    .where(address_table.c.email_address == \"patrick@aol.com\")\n",
    "    .values(fullname=\"Pat\")\n",
    ")\n",
    "print(update_stmt)"
   ],
   "metadata": {
    "collapsed": false,
    "ExecuteTime": {
     "end_time": "2024-12-25T07:19:28.627771300Z",
     "start_time": "2024-12-25T07:19:28.457044500Z"
    }
   },
   "id": "4add6d492d987505"
  },
  {
   "cell_type": "code",
   "execution_count": 18,
   "outputs": [],
   "source": [
    "update_stmt = (\n",
    "    update(user_table)\n",
    "    .where(user_table.c.id == address_table.c.user_id)\n",
    "    .where(address_table.c.email_address == \"patrick@aol.com\")\n",
    "    .values(\n",
    "        {\n",
    "            user_table.c.fullname: \"Pat\",\n",
    "            address_table.c.email_address: \"pat@aol.com\",\n",
    "        }\n",
    "    )\n",
    ")"
   ],
   "metadata": {
    "collapsed": false,
    "ExecuteTime": {
     "end_time": "2024-12-25T07:19:42.780078100Z",
     "start_time": "2024-12-25T07:19:42.764074600Z"
    }
   },
   "id": "3eef12b7639b4a95"
  },
  {
   "cell_type": "code",
   "execution_count": 19,
   "outputs": [
    {
     "name": "stdout",
     "output_type": "stream",
     "text": [
      "UPDATE user_account, address SET address.email_address=%s, user_account.fullname=%s WHERE user_account.id = address.user_id AND address.email_address = %s\n"
     ]
    }
   ],
   "source": [
    "from sqlalchemy.dialects import mysql\n",
    "print(update_stmt.compile(dialect=mysql.dialect()))"
   ],
   "metadata": {
    "collapsed": false,
    "ExecuteTime": {
     "end_time": "2024-12-25T07:19:44.380760400Z",
     "start_time": "2024-12-25T07:19:44.330613800Z"
    }
   },
   "id": "ba63ab7e9fdebe9c"
  },
  {
   "cell_type": "code",
   "execution_count": 22,
   "outputs": [],
   "source": [
    "some_table = Table(\n",
    "    \"some_table\",\n",
    "    metadata_obj,\n",
    "    Column(\"x\", Integer),\n",
    "    Column(\"y\", Integer),\n",
    "    extend_existing=True\n",
    ")"
   ],
   "metadata": {
    "collapsed": false,
    "ExecuteTime": {
     "end_time": "2024-12-25T07:26:05.097832900Z",
     "start_time": "2024-12-25T07:26:05.075168700Z"
    }
   },
   "id": "9c3be2d4e2aa0e05"
  },
  {
   "cell_type": "code",
   "execution_count": 23,
   "outputs": [
    {
     "name": "stdout",
     "output_type": "stream",
     "text": [
      "UPDATE some_table SET y=:y, x=(some_table.y + :y_1)\n"
     ]
    }
   ],
   "source": [
    "update_stmt = update(some_table).ordered_values((some_table.c.y, 20), (some_table.c.x, some_table.c.y + 10))\n",
    "print(update_stmt)"
   ],
   "metadata": {
    "collapsed": false,
    "ExecuteTime": {
     "end_time": "2024-12-25T07:26:06.732217900Z",
     "start_time": "2024-12-25T07:26:06.725038200Z"
    }
   },
   "id": "b015b5791b68f9b1"
  },
  {
   "cell_type": "code",
   "execution_count": 24,
   "outputs": [
    {
     "name": "stdout",
     "output_type": "stream",
     "text": [
      "DELETE FROM user_account WHERE user_account.name = :name_1\n"
     ]
    }
   ],
   "source": [
    "from sqlalchemy import delete\n",
    "stmt = delete(user_table).where(user_table.c.name == \"patrick\")\n",
    "print(stmt)"
   ],
   "metadata": {
    "collapsed": false,
    "ExecuteTime": {
     "end_time": "2024-12-25T07:28:24.086330300Z",
     "start_time": "2024-12-25T07:28:24.072309100Z"
    }
   },
   "id": "eeedb12d6b23e51a"
  },
  {
   "cell_type": "code",
   "execution_count": 25,
   "outputs": [
    {
     "name": "stdout",
     "output_type": "stream",
     "text": [
      "DELETE FROM user_account USING user_account, address WHERE user_account.id = address.user_id AND address.email_address = %s\n"
     ]
    }
   ],
   "source": [
    "delete_stmt = (\n",
    "    delete(user_table)\n",
    "    .where(user_table.c.id == address_table.c.user_id)\n",
    "    .where(address_table.c.email_address == \"patrick@aol.com\")\n",
    ")\n",
    "from sqlalchemy.dialects import mysql\n",
    "print(delete_stmt.compile(dialect=mysql.dialect()))"
   ],
   "metadata": {
    "collapsed": false,
    "ExecuteTime": {
     "end_time": "2024-12-25T07:28:38.963512900Z",
     "start_time": "2024-12-25T07:28:38.929727600Z"
    }
   },
   "id": "1b02f60a684730c2"
  },
  {
   "cell_type": "code",
   "execution_count": 26,
   "outputs": [
    {
     "name": "stdout",
     "output_type": "stream",
     "text": [
      "2024-12-25 15:28:45,663 INFO sqlalchemy.engine.Engine BEGIN (implicit)\n",
      "2024-12-25 15:28:45,666 INFO sqlalchemy.engine.Engine UPDATE user_account SET fullname=? WHERE user_account.name = ?\n",
      "2024-12-25 15:28:45,667 INFO sqlalchemy.engine.Engine [generated in 0.00123s] ('Patrick McStar', 'patrick')\n",
      "2\n",
      "2024-12-25 15:28:45,671 INFO sqlalchemy.engine.Engine COMMIT\n"
     ]
    }
   ],
   "source": [
    "with engine.begin() as conn:\n",
    "    result = conn.execute(\n",
    "        update(user_table)\n",
    "        .values(fullname=\"Patrick McStar\")\n",
    "        .where(user_table.c.name == \"patrick\")\n",
    "    )\n",
    "    print(result.rowcount)"
   ],
   "metadata": {
    "collapsed": false,
    "ExecuteTime": {
     "end_time": "2024-12-25T07:28:45.707668400Z",
     "start_time": "2024-12-25T07:28:45.663243800Z"
    }
   },
   "id": "d4fafd3a649dd138"
  },
  {
   "cell_type": "code",
   "execution_count": 27,
   "outputs": [
    {
     "name": "stdout",
     "output_type": "stream",
     "text": [
      "UPDATE user_account SET fullname=:fullname WHERE user_account.name = :name_1 RETURNING user_account.id, user_account.name\n",
      "DELETE FROM user_account WHERE user_account.name = :name_1 RETURNING user_account.id, user_account.name\n"
     ]
    }
   ],
   "source": [
    "update_stmt = (\n",
    "    update(user_table)\n",
    "    .where(user_table.c.name == \"patrick\")\n",
    "    .values(fullname=\"Patrick the Star\")\n",
    "    .returning(user_table.c.id, user_table.c.name)\n",
    ")\n",
    "print(update_stmt)\n",
    "delete_stmt = (\n",
    "    delete(user_table)\n",
    "    .where(user_table.c.name == \"patrick\")\n",
    "    .returning(user_table.c.id, user_table.c.name)\n",
    ")\n",
    "print(delete_stmt)"
   ],
   "metadata": {
    "collapsed": false,
    "ExecuteTime": {
     "end_time": "2024-12-25T07:30:38.024963500Z",
     "start_time": "2024-12-25T07:30:38.011747300Z"
    }
   },
   "id": "c2ffe110a932ba07"
  },
  {
   "cell_type": "code",
   "execution_count": 28,
   "outputs": [],
   "source": [],
   "metadata": {
    "collapsed": false,
    "ExecuteTime": {
     "end_time": "2024-12-25T07:32:06.317554900Z",
     "start_time": "2024-12-25T07:32:06.308353500Z"
    }
   },
   "id": "7bd7e603a8fd0bb4"
  },
  {
   "cell_type": "code",
   "execution_count": null,
   "outputs": [],
   "source": [],
   "metadata": {
    "collapsed": false
   },
   "id": "ed1d4c5c5384d130"
  },
  {
   "cell_type": "code",
   "execution_count": null,
   "outputs": [],
   "source": [],
   "metadata": {
    "collapsed": false
   },
   "id": "a505430f76f711ad"
  },
  {
   "cell_type": "code",
   "execution_count": null,
   "outputs": [],
   "source": [],
   "metadata": {
    "collapsed": false
   },
   "id": "44d7fda21b4522d7"
  }
 ],
 "metadata": {
  "kernelspec": {
   "display_name": "Python 3",
   "language": "python",
   "name": "python3"
  },
  "language_info": {
   "codemirror_mode": {
    "name": "ipython",
    "version": 2
   },
   "file_extension": ".py",
   "mimetype": "text/x-python",
   "name": "python",
   "nbconvert_exporter": "python",
   "pygments_lexer": "ipython2",
   "version": "2.7.6"
  }
 },
 "nbformat": 4,
 "nbformat_minor": 5
}
