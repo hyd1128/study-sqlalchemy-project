{
 "cells": [
  {
   "cell_type": "code",
   "execution_count": 1,
   "id": "initial_id",
   "metadata": {
    "collapsed": true,
    "ExecuteTime": {
     "end_time": "2024-12-25T08:27:41.759559900Z",
     "start_time": "2024-12-25T08:27:41.629274500Z"
    }
   },
   "outputs": [],
   "source": [
    "from sqlalchemy import create_engine\n",
    "engine = create_engine(\"sqlite+pysqlite:///database.sqlite\", echo=True)"
   ]
  },
  {
   "cell_type": "code",
   "execution_count": 2,
   "outputs": [],
   "source": [
    "from sqlalchemy import String, ForeignKey\n",
    "# 建立声明性基础\n",
    "from sqlalchemy.orm import DeclarativeBase\n",
    "class Base(DeclarativeBase):\n",
    "    pass\n",
    "\n",
    "# 声明映射类\n",
    "from typing import List\n",
    "from typing import Optional\n",
    "from sqlalchemy.orm import Mapped\n",
    "from sqlalchemy.orm import mapped_column\n",
    "from sqlalchemy.orm import relationship\n",
    "\n",
    "class User(Base):\n",
    "    __tablename__ = \"user_account\"\n",
    "    id: Mapped[int] = mapped_column(primary_key=True)\n",
    "    name: Mapped[str] = mapped_column(String(30))\n",
    "    fullname: Mapped[Optional[str]]\n",
    "    addresses: Mapped[List[\"Address\"]] = relationship(back_populates=\"user\")\n",
    "    def __repr__(self) -> str:\n",
    "        return f\"User(id={self.id!r}, name={self.name!r}, fullname={self.fullname!r})\"\n",
    "    \n",
    "class Address(Base):\n",
    "    __tablename__ = \"address\"\n",
    "    id: Mapped[int] = mapped_column(primary_key=True)\n",
    "    email_address: Mapped[str]\n",
    "    user_id = mapped_column(ForeignKey(\"user_account.id\"))\n",
    "    user: Mapped[User] = relationship(back_populates=\"addresses\")\n",
    "    def __repr__(self) -> str:\n",
    "        return f\"Address(id={self.id!r}, email_address={self.email_address!r})\""
   ],
   "metadata": {
    "collapsed": false,
    "ExecuteTime": {
     "end_time": "2024-12-25T08:27:42.538197900Z",
     "start_time": "2024-12-25T08:27:42.466280900Z"
    }
   },
   "id": "7dce7218ec73b62e"
  },
  {
   "cell_type": "markdown",
   "source": [
    "### 类的实例代表行"
   ],
   "metadata": {
    "collapsed": false
   },
   "id": "65356e34c642ad53"
  },
  {
   "cell_type": "code",
   "execution_count": 3,
   "outputs": [],
   "source": [
    "squidward = User(name=\"squidward\", fullname=\"Squidward Tentacles\")\n",
    "krabs = User(name=\"ehkrabs\", fullname=\"Eugene H. Krabs\")"
   ],
   "metadata": {
    "collapsed": false,
    "ExecuteTime": {
     "end_time": "2024-12-25T08:27:47.027145Z",
     "start_time": "2024-12-25T08:27:47.013826900Z"
    }
   },
   "id": "fb335f56c62105cd"
  },
  {
   "cell_type": "code",
   "execution_count": 4,
   "outputs": [
    {
     "data": {
      "text/plain": "User(id=None, name='squidward', fullname='Squidward Tentacles')"
     },
     "execution_count": 4,
     "metadata": {},
     "output_type": "execute_result"
    }
   ],
   "source": [
    "squidward"
   ],
   "metadata": {
    "collapsed": false,
    "ExecuteTime": {
     "end_time": "2024-12-25T08:27:48.864983400Z",
     "start_time": "2024-12-25T08:27:48.847895700Z"
    }
   },
   "id": "26a50962b8f7716d"
  },
  {
   "cell_type": "markdown",
   "source": [
    "### 将对象添加到会话\n",
    "\n",
    "为了逐步说明添加过程，我们将创建一个 不使用上下文管理器的Session （因此我们必须确保稍后关闭它！）："
   ],
   "metadata": {
    "collapsed": false
   },
   "id": "40470aaec8643ebb"
  },
  {
   "cell_type": "code",
   "execution_count": 5,
   "outputs": [],
   "source": [
    "from sqlalchemy.orm import Session\n",
    "\n",
    "session = Session(engine)"
   ],
   "metadata": {
    "collapsed": false,
    "ExecuteTime": {
     "end_time": "2024-12-25T08:27:56.920766600Z",
     "start_time": "2024-12-25T08:27:56.907760700Z"
    }
   },
   "id": "deb38a8f13dade79"
  },
  {
   "cell_type": "code",
   "execution_count": 6,
   "outputs": [],
   "source": [
    "# 然后使用以下方法将对象添加到Session中 Session.add()方法。调用此方法时，对象处于挂起状态，尚未插入：\n",
    "session.add(squidward)\n",
    "session.add(krabs)"
   ],
   "metadata": {
    "collapsed": false,
    "ExecuteTime": {
     "end_time": "2024-12-25T08:28:00.123492300Z",
     "start_time": "2024-12-25T08:28:00.110122900Z"
    }
   },
   "id": "2fa2d4f94c05e0fe"
  },
  {
   "cell_type": "code",
   "execution_count": 7,
   "outputs": [
    {
     "data": {
      "text/plain": "IdentitySet([User(id=None, name='squidward', fullname='Squidward Tentacles'), User(id=None, name='ehkrabs', fullname='Eugene H. Krabs')])"
     },
     "execution_count": 7,
     "metadata": {},
     "output_type": "execute_result"
    }
   ],
   "source": [
    "# 当我们有挂起的对象时，我们可以通过查看Session上名为Session.new集合来查看此状态：\n",
    "session.new\n",
    "# 上面的视图使用了一个名为IdentitySet的集合，它本质上是一个 Python 集合，在所有情况下都会对对象身份进行哈希处理（即使用 Python 内置id()函数，而不是 Python hash()函数）。"
   ],
   "metadata": {
    "collapsed": false,
    "ExecuteTime": {
     "end_time": "2024-12-25T08:28:02.759344400Z",
     "start_time": "2024-12-25T08:28:02.739856Z"
    }
   },
   "id": "4922f08dd8f324f5"
  },
  {
   "cell_type": "markdown",
   "source": [
    "此时还未写入数据库\n",
    "\n",
    "上面我们观察到Session首先被调用来发出 SQL，因此它创建了一个新事务并为两个对象发出了适当的 INSERT 语句。事务现在保持打开状态，直到我们调用Session.commit() 、 Session.rollback()或 Session的Session.close()方法。\n",
    "\n",
    "虽然Session.flush()可用于手动推出待处理的 对当前事务的更改，通常是不必要的，因为 Session具有称为autoflush 的行为，该行为 我们稍后会举例说明。它也会在任何时候刷新更改 调用Session.commit() 。"
   ],
   "metadata": {
    "collapsed": false
   },
   "id": "d25e7add5a103933"
  },
  {
   "cell_type": "code",
   "execution_count": 8,
   "outputs": [
    {
     "name": "stdout",
     "output_type": "stream",
     "text": [
      "2024-12-25 16:28:08,927 INFO sqlalchemy.engine.Engine BEGIN (implicit)\n",
      "2024-12-25 16:28:08,928 INFO sqlalchemy.engine.Engine INSERT INTO user_account (name, fullname) VALUES (?, ?) RETURNING id\n",
      "2024-12-25 16:28:08,929 INFO sqlalchemy.engine.Engine [generated in 0.00007s (insertmanyvalues) 1/2 (ordered; batch not supported)] ('squidward', 'Squidward Tentacles')\n",
      "2024-12-25 16:28:08,930 INFO sqlalchemy.engine.Engine INSERT INTO user_account (name, fullname) VALUES (?, ?) RETURNING id\n",
      "2024-12-25 16:28:08,931 INFO sqlalchemy.engine.Engine [insertmanyvalues 2/2 (ordered; batch not supported)] ('ehkrabs', 'Eugene H. Krabs')\n"
     ]
    }
   ],
   "source": [
    "session.flush()"
   ],
   "metadata": {
    "collapsed": false,
    "ExecuteTime": {
     "end_time": "2024-12-25T08:28:08.940264400Z",
     "start_time": "2024-12-25T08:28:08.927095500Z"
    }
   },
   "id": "21c4c36fb2722204"
  },
  {
   "cell_type": "code",
   "execution_count": null,
   "outputs": [],
   "source": [
    "# session.commit()"
   ],
   "metadata": {
    "collapsed": false,
    "ExecuteTime": {
     "start_time": "2024-12-25T08:27:25.312958500Z"
    }
   },
   "id": "96279627856d442f"
  },
  {
   "cell_type": "code",
   "execution_count": 9,
   "outputs": [
    {
     "data": {
      "text/plain": "User(id=1, name='squidward', fullname='Squidward Tentacles')"
     },
     "execution_count": 9,
     "metadata": {},
     "output_type": "execute_result"
    }
   ],
   "source": [
    "squidward"
   ],
   "metadata": {
    "collapsed": false,
    "ExecuteTime": {
     "end_time": "2024-12-25T08:28:13.345843800Z",
     "start_time": "2024-12-25T08:28:13.332094700Z"
    }
   },
   "id": "b4158eebcfbc915c"
  },
  {
   "cell_type": "code",
   "execution_count": 10,
   "outputs": [
    {
     "data": {
      "text/plain": "User(id=2, name='ehkrabs', fullname='Eugene H. Krabs')"
     },
     "execution_count": 10,
     "metadata": {},
     "output_type": "execute_result"
    }
   ],
   "source": [
    "krabs"
   ],
   "metadata": {
    "collapsed": false,
    "ExecuteTime": {
     "end_time": "2024-12-25T08:28:15.106727700Z",
     "start_time": "2024-12-25T08:28:15.075626400Z"
    }
   },
   "id": "61385b7d4d95de37"
  },
  {
   "cell_type": "code",
   "execution_count": 11,
   "outputs": [],
   "source": [
    "some_squidward = session.get(User, 1)"
   ],
   "metadata": {
    "collapsed": false,
    "ExecuteTime": {
     "end_time": "2024-12-25T08:28:17.395726Z",
     "start_time": "2024-12-25T08:28:17.381177200Z"
    }
   },
   "id": "cfb5da6f0279f60f"
  },
  {
   "cell_type": "code",
   "execution_count": 12,
   "outputs": [
    {
     "data": {
      "text/plain": "User(id=1, name='squidward', fullname='Squidward Tentacles')"
     },
     "execution_count": 12,
     "metadata": {},
     "output_type": "execute_result"
    }
   ],
   "source": [
    "some_squidward"
   ],
   "metadata": {
    "collapsed": false,
    "ExecuteTime": {
     "end_time": "2024-12-25T08:28:18.867374400Z",
     "start_time": "2024-12-25T08:28:18.858374600Z"
    }
   },
   "id": "6280a45a403f9a04"
  },
  {
   "cell_type": "code",
   "execution_count": 13,
   "outputs": [
    {
     "data": {
      "text/plain": "True"
     },
     "execution_count": 13,
     "metadata": {},
     "output_type": "execute_result"
    }
   ],
   "source": [
    "some_squidward is squidward"
   ],
   "metadata": {
    "collapsed": false,
    "ExecuteTime": {
     "end_time": "2024-12-25T08:28:24.530757700Z",
     "start_time": "2024-12-25T08:28:24.519118400Z"
    }
   },
   "id": "fd8db1c267aeb624"
  },
  {
   "cell_type": "markdown",
   "source": [
    "### committing 提交"
   ],
   "metadata": {
    "collapsed": false
   },
   "id": "fd0c563536d67fb9"
  },
  {
   "cell_type": "code",
   "execution_count": 15,
   "outputs": [
    {
     "name": "stdout",
     "output_type": "stream",
     "text": [
      "2024-12-25 16:28:40,264 INFO sqlalchemy.engine.Engine COMMIT\n"
     ]
    }
   ],
   "source": [
    "session.commit()"
   ],
   "metadata": {
    "collapsed": false,
    "ExecuteTime": {
     "end_time": "2024-12-25T08:28:40.278522Z",
     "start_time": "2024-12-25T08:28:40.265387600Z"
    }
   },
   "id": "206fb323bfd56141"
  },
  {
   "cell_type": "code",
   "execution_count": 16,
   "outputs": [
    {
     "data": {
      "text/plain": "IdentitySet([])"
     },
     "execution_count": 16,
     "metadata": {},
     "output_type": "execute_result"
    }
   ],
   "source": [
    "session.new"
   ],
   "metadata": {
    "collapsed": false,
    "ExecuteTime": {
     "end_time": "2024-12-25T08:28:41.540536800Z",
     "start_time": "2024-12-25T08:28:41.523539900Z"
    }
   },
   "id": "98dfcfd02816e54a"
  },
  {
   "cell_type": "code",
   "execution_count": 17,
   "outputs": [
    {
     "name": "stdout",
     "output_type": "stream",
     "text": [
      "2024-12-25 16:28:44,932 INFO sqlalchemy.engine.Engine SELECT user_account.id, user_account.name, user_account.fullname \n",
      "FROM user_account \n",
      "WHERE user_account.name = ?\n",
      "2024-12-25 16:28:44,933 INFO sqlalchemy.engine.Engine [generated in 0.00075s] ('squidward',)\n"
     ]
    }
   ],
   "source": [
    "from sqlalchemy import select\n",
    "\n",
    "sandy = session.execute(select(User).filter_by(name=\"squidward\")).scalar_one()"
   ],
   "metadata": {
    "collapsed": false,
    "ExecuteTime": {
     "end_time": "2024-12-25T08:28:44.951182300Z",
     "start_time": "2024-12-25T08:28:44.932821900Z"
    }
   },
   "id": "814c9a6445bfbbee"
  },
  {
   "cell_type": "code",
   "execution_count": 18,
   "outputs": [
    {
     "data": {
      "text/plain": "User(id=1, name='squidward', fullname='Squidward Tentacles')"
     },
     "execution_count": 18,
     "metadata": {},
     "output_type": "execute_result"
    }
   ],
   "source": [
    "sandy"
   ],
   "metadata": {
    "collapsed": false,
    "ExecuteTime": {
     "end_time": "2024-12-25T08:28:46.842453400Z",
     "start_time": "2024-12-25T08:28:46.833114700Z"
    }
   },
   "id": "9b80945073f02ff3"
  },
  {
   "cell_type": "code",
   "execution_count": 19,
   "outputs": [],
   "source": [
    "sandy.fullname = \"Sandy Squirrel\""
   ],
   "metadata": {
    "collapsed": false,
    "ExecuteTime": {
     "end_time": "2024-12-25T08:28:48.227931400Z",
     "start_time": "2024-12-25T08:28:48.224505400Z"
    }
   },
   "id": "8dd05f5ea9403462"
  },
  {
   "cell_type": "code",
   "execution_count": 20,
   "outputs": [
    {
     "data": {
      "text/plain": "True"
     },
     "execution_count": 20,
     "metadata": {},
     "output_type": "execute_result"
    }
   ],
   "source": [
    "# 该对象出现在名为Session.dirty的集合中，表明该对象是“脏的”：\n",
    "sandy in session.dirty"
   ],
   "metadata": {
    "collapsed": false,
    "ExecuteTime": {
     "end_time": "2024-12-25T08:28:49.509168Z",
     "start_time": "2024-12-25T08:28:49.474583700Z"
    }
   },
   "id": "851d7940111f8ac6"
  },
  {
   "cell_type": "code",
   "execution_count": 21,
   "outputs": [
    {
     "name": "stdout",
     "output_type": "stream",
     "text": [
      "2024-12-25 16:28:51,229 INFO sqlalchemy.engine.Engine UPDATE user_account SET fullname=? WHERE user_account.id = ?\n",
      "2024-12-25 16:28:51,229 INFO sqlalchemy.engine.Engine [generated in 0.00073s] ('Sandy Squirrel', 1)\n",
      "2024-12-25 16:28:51,231 INFO sqlalchemy.engine.Engine SELECT user_account.fullname \n",
      "FROM user_account \n",
      "WHERE user_account.id = ?\n",
      "2024-12-25 16:28:51,232 INFO sqlalchemy.engine.Engine [generated in 0.00052s] (1,)\n"
     ]
    }
   ],
   "source": [
    "sandy_fullname = session.execute(select(User.fullname).where(User.id == 1)).scalar_one()"
   ],
   "metadata": {
    "collapsed": false,
    "ExecuteTime": {
     "end_time": "2024-12-25T08:28:51.239614400Z",
     "start_time": "2024-12-25T08:28:51.228156200Z"
    }
   },
   "id": "297cb840742f18f9"
  },
  {
   "cell_type": "code",
   "execution_count": 22,
   "outputs": [
    {
     "data": {
      "text/plain": "'Sandy Squirrel'"
     },
     "execution_count": 22,
     "metadata": {},
     "output_type": "execute_result"
    }
   ],
   "source": [
    "sandy_fullname"
   ],
   "metadata": {
    "collapsed": false,
    "ExecuteTime": {
     "end_time": "2024-12-25T08:28:52.921319Z",
     "start_time": "2024-12-25T08:28:52.888875800Z"
    }
   },
   "id": "f34a0365621c66da"
  },
  {
   "cell_type": "code",
   "execution_count": 23,
   "outputs": [
    {
     "data": {
      "text/plain": "False"
     },
     "execution_count": 23,
     "metadata": {},
     "output_type": "execute_result"
    }
   ],
   "source": [
    "sandy in session.dirty"
   ],
   "metadata": {
    "collapsed": false,
    "ExecuteTime": {
     "end_time": "2024-12-25T08:28:54.381570300Z",
     "start_time": "2024-12-25T08:28:54.349575900Z"
    }
   },
   "id": "48f935e67228dae6"
  },
  {
   "cell_type": "markdown",
   "source": [
    "### 使用工作单元模式删除 ORM 对象"
   ],
   "metadata": {
    "collapsed": false
   },
   "id": "541d6692661daf6"
  },
  {
   "cell_type": "code",
   "execution_count": 25,
   "outputs": [],
   "source": [
    "ehkrabs = session.get(User, 2)"
   ],
   "metadata": {
    "collapsed": false,
    "ExecuteTime": {
     "end_time": "2024-12-25T08:30:06.337040200Z",
     "start_time": "2024-12-25T08:30:06.327038800Z"
    }
   },
   "id": "eb02a9ea92a12900"
  },
  {
   "cell_type": "code",
   "execution_count": 26,
   "outputs": [],
   "source": [
    "session.delete(ehkrabs)"
   ],
   "metadata": {
    "collapsed": false,
    "ExecuteTime": {
     "end_time": "2024-12-25T08:30:23.679395900Z",
     "start_time": "2024-12-25T08:30:23.665825300Z"
    }
   },
   "id": "c08a4e06b69d9114"
  },
  {
   "cell_type": "code",
   "execution_count": 27,
   "outputs": [
    {
     "name": "stdout",
     "output_type": "stream",
     "text": [
      "2024-12-25 16:30:48,511 INFO sqlalchemy.engine.Engine SELECT address.id AS address_id, address.email_address AS address_email_address, address.user_id AS address_user_id \n",
      "FROM address \n",
      "WHERE ? = address.user_id\n",
      "2024-12-25 16:30:48,512 INFO sqlalchemy.engine.Engine [generated in 0.00098s] (2,)\n",
      "2024-12-25 16:30:48,514 INFO sqlalchemy.engine.Engine UPDATE address SET user_id=? WHERE address.id = ?\n",
      "2024-12-25 16:30:48,516 INFO sqlalchemy.engine.Engine [generated in 0.00102s] [(None, 2), (None, 3), (None, 5), (None, 6)]\n",
      "2024-12-25 16:30:48,518 INFO sqlalchemy.engine.Engine DELETE FROM user_account WHERE user_account.id = ?\n",
      "2024-12-25 16:30:48,519 INFO sqlalchemy.engine.Engine [generated in 0.00092s] (2,)\n",
      "2024-12-25 16:30:48,520 INFO sqlalchemy.engine.Engine SELECT user_account.id, user_account.name, user_account.fullname \n",
      "FROM user_account \n",
      "WHERE user_account.name = ?\n",
      "2024-12-25 16:30:48,520 INFO sqlalchemy.engine.Engine [cached since 123.6s ago] ('ehkrabs',)\n"
     ]
    }
   ],
   "source": [
    "session.execute(select(User).where(User.name == \"ehkrabs\")).first()"
   ],
   "metadata": {
    "collapsed": false,
    "ExecuteTime": {
     "end_time": "2024-12-25T08:30:48.542883400Z",
     "start_time": "2024-12-25T08:30:48.510865100Z"
    }
   },
   "id": "610b3878331631c8"
  },
  {
   "cell_type": "code",
   "execution_count": 28,
   "outputs": [
    {
     "data": {
      "text/plain": "False"
     },
     "execution_count": 28,
     "metadata": {},
     "output_type": "execute_result"
    }
   ],
   "source": [
    "ehkrabs in session"
   ],
   "metadata": {
    "collapsed": false,
    "ExecuteTime": {
     "end_time": "2024-12-25T08:32:17.479881800Z",
     "start_time": "2024-12-25T08:32:17.466855700Z"
    }
   },
   "id": "6067527a4d428f9a"
  },
  {
   "cell_type": "markdown",
   "source": [
    "批量/多行插入、更新插入、更新和删除"
   ],
   "metadata": {
    "collapsed": false
   },
   "id": "2ba04bd4509039ad"
  },
  {
   "cell_type": "code",
   "execution_count": 29,
   "outputs": [
    {
     "name": "stdout",
     "output_type": "stream",
     "text": [
      "2024-12-25 16:34:33,957 INFO sqlalchemy.engine.Engine ROLLBACK\n"
     ]
    }
   ],
   "source": [
    "session.rollback()"
   ],
   "metadata": {
    "collapsed": false,
    "ExecuteTime": {
     "end_time": "2024-12-25T08:34:33.978417200Z",
     "start_time": "2024-12-25T08:34:33.958816500Z"
    }
   },
   "id": "d333ef9f65fe59b0"
  },
  {
   "cell_type": "code",
   "execution_count": 35,
   "outputs": [
    {
     "data": {
      "text/plain": "{'_sa_instance_state': <sqlalchemy.orm.state.InstanceState at 0x1f30c416980>,\n 'fullname': 'Squidward Tentacles',\n 'name': 'squidward',\n 'id': 1}"
     },
     "execution_count": 35,
     "metadata": {},
     "output_type": "execute_result"
    }
   ],
   "source": [
    "sandy.__dict__"
   ],
   "metadata": {
    "collapsed": false,
    "ExecuteTime": {
     "end_time": "2024-12-25T08:35:35.254104300Z",
     "start_time": "2024-12-25T08:35:35.238434400Z"
    }
   },
   "id": "d34693c9f00eeba6"
  },
  {
   "cell_type": "code",
   "execution_count": 42,
   "outputs": [
    {
     "data": {
      "text/plain": "'Squidward Tentacles'"
     },
     "execution_count": 42,
     "metadata": {},
     "output_type": "execute_result"
    }
   ],
   "source": [
    "sandy.fullname"
   ],
   "metadata": {
    "collapsed": false,
    "ExecuteTime": {
     "end_time": "2024-12-25T08:36:33.332038800Z",
     "start_time": "2024-12-25T08:36:33.312878500Z"
    }
   },
   "id": "1b0233e2f3b8b30c"
  },
  {
   "cell_type": "code",
   "execution_count": 43,
   "outputs": [
    {
     "data": {
      "text/plain": "True"
     },
     "execution_count": 43,
     "metadata": {},
     "output_type": "execute_result"
    }
   ],
   "source": [
    "ehkrabs in session"
   ],
   "metadata": {
    "collapsed": false,
    "ExecuteTime": {
     "end_time": "2024-12-25T08:36:38.615544800Z",
     "start_time": "2024-12-25T08:36:38.601157600Z"
    }
   },
   "id": "2fce8fbe782b7c1f"
  },
  {
   "cell_type": "code",
   "execution_count": 0,
   "outputs": [],
   "source": [
    "result = session.execute(select(User).where(User.name == \"ehkrabs\")).scalar_one()"
   ],
   "metadata": {
    "collapsed": false
   },
   "id": "27767bee707e7e3e"
  },
  {
   "cell_type": "code",
   "execution_count": 47,
   "outputs": [
    {
     "data": {
      "text/plain": "User(id=2, name='ehkrabs', fullname='Eugene H. Krabs')"
     },
     "execution_count": 47,
     "metadata": {},
     "output_type": "execute_result"
    }
   ],
   "source": [
    "result"
   ],
   "metadata": {
    "collapsed": false,
    "ExecuteTime": {
     "end_time": "2024-12-25T08:37:23.652301200Z",
     "start_time": "2024-12-25T08:37:23.635471Z"
    }
   },
   "id": "f92600215b16138b"
  },
  {
   "cell_type": "code",
   "execution_count": 50,
   "outputs": [
    {
     "data": {
      "text/plain": "True"
     },
     "execution_count": 50,
     "metadata": {},
     "output_type": "execute_result"
    }
   ],
   "source": [
    "ehkrabs is result"
   ],
   "metadata": {
    "collapsed": false,
    "ExecuteTime": {
     "end_time": "2024-12-25T08:37:38.486967800Z",
     "start_time": "2024-12-25T08:37:38.477657700Z"
    }
   },
   "id": "a4e4ece35639963c"
  },
  {
   "cell_type": "code",
   "execution_count": 70,
   "outputs": [],
   "source": [
    "session.close()"
   ],
   "metadata": {
    "collapsed": false,
    "ExecuteTime": {
     "end_time": "2024-12-25T08:45:48.651097700Z",
     "start_time": "2024-12-25T08:45:48.631101500Z"
    }
   },
   "id": "775b748255ac03fd"
  },
  {
   "cell_type": "markdown",
   "source": [
    "关闭会话\n",
    "- 它将所有连接资源释放到连接池，取消（例如回滚）任何正在进行的事务。\n",
    "\n",
    "- 这意味着当我们利用会话执行一些只读操作时 任务然后关闭它，我们不需要显式调用 Session.rollback()确保事务回滚；连接池处理这个。\n",
    "\n",
    "- 它从Session中删除所有对象。\n",
    "\n",
    "- 这意味着我们为此Session加载的所有 Python 对象（如sandy 、 patrick和squidward ）现在都处于称为detached 的状态。特别是，我们会注意到，仍然处于过期状态的对象（例如由于调用Session.commit()现在不起作用，因为它们不包含当前行的状态，并且不具有任何功能。不再与要刷新的任何数据库事务关联："
   ],
   "metadata": {
    "collapsed": false
   },
   "id": "536bfd0d38abbabe"
  },
  {
   "cell_type": "code",
   "execution_count": 67,
   "outputs": [],
   "source": [],
   "metadata": {
    "collapsed": false,
    "ExecuteTime": {
     "end_time": "2024-12-25T08:43:06.188906600Z",
     "start_time": "2024-12-25T08:43:06.175603700Z"
    }
   },
   "id": "32212fcb0db19135"
  },
  {
   "cell_type": "code",
   "execution_count": 68,
   "outputs": [],
   "source": [],
   "metadata": {
    "collapsed": false,
    "ExecuteTime": {
     "end_time": "2024-12-25T08:43:08.659582300Z",
     "start_time": "2024-12-25T08:43:08.643023800Z"
    }
   },
   "id": "6f62512cbde4b584"
  }
 ],
 "metadata": {
  "kernelspec": {
   "display_name": "Python 3",
   "language": "python",
   "name": "python3"
  },
  "language_info": {
   "codemirror_mode": {
    "name": "ipython",
    "version": 2
   },
   "file_extension": ".py",
   "mimetype": "text/x-python",
   "name": "python",
   "nbconvert_exporter": "python",
   "pygments_lexer": "ipython2",
   "version": "2.7.6"
  }
 },
 "nbformat": 4,
 "nbformat_minor": 5
}
