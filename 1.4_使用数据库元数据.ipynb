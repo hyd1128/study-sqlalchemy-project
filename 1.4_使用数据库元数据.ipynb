{
 "cells": [
  {
   "cell_type": "markdown",
   "source": [
    "随着引擎和 SQL 执行的停止，我们准备开始一些 Alchemy。 SQLAlchemy Core 和 ORM 的核心元素是 SQL 表达式语言，它允许流畅、可组合地构建 SQL 查询。这些查询的基础是表示表和列等数据库概念的 Python 对象。这些对象统称为数据库元数据。\n",
    "\n",
    "SQLAlchemy 中数据库元数据最常见的基础对象称为MetaData 、 Table和Column 。下面的部分将说明如何在面向 Core 的风格和面向 ORM 的风格中使用这些对象。\n",
    "\n",
    "[文档链接]{https://docs.sqlalchemy.org/en/20/tutorial/metadata.html}"
   ],
   "metadata": {
    "collapsed": false
   },
   "id": "5ba951c5f6105cd4"
  },
  {
   "cell_type": "code",
   "execution_count": 1,
   "outputs": [],
   "source": [
    "from sqlalchemy import MetaData\n",
    "metadata_obj = MetaData()"
   ],
   "metadata": {
    "collapsed": false,
    "ExecuteTime": {
     "end_time": "2024-12-24T12:33:35.845800100Z",
     "start_time": "2024-12-24T12:33:35.733659800Z"
    }
   },
   "id": "537c03d1da056ca1"
  },
  {
   "cell_type": "code",
   "execution_count": 2,
   "outputs": [],
   "source": [
    "from sqlalchemy import Table, Column, Integer, String\n",
    "user_table = Table(\n",
    "    \"user_account\",\n",
    "    metadata_obj,\n",
    "    Column(\"id\", Integer, primary_key=True),\n",
    "    Column(\"name\", String(30)),\n",
    "    Column(\"fullname\", String),\n",
    ")"
   ],
   "metadata": {
    "collapsed": false,
    "ExecuteTime": {
     "end_time": "2024-12-24T12:33:36.858950200Z",
     "start_time": "2024-12-24T12:33:36.855953400Z"
    }
   },
   "id": "91a66bcf484e4367"
  },
  {
   "cell_type": "code",
   "execution_count": 3,
   "outputs": [
    {
     "data": {
      "text/plain": "Column('name', String(length=30), table=<user_account>)"
     },
     "execution_count": 3,
     "metadata": {},
     "output_type": "execute_result"
    }
   ],
   "source": [
    "# 查看name字段\n",
    "user_table.c.name"
   ],
   "metadata": {
    "collapsed": false,
    "ExecuteTime": {
     "end_time": "2024-12-24T12:33:49.733284300Z",
     "start_time": "2024-12-24T12:33:49.716789100Z"
    }
   },
   "id": "c2916d9eae58ff7d"
  },
  {
   "cell_type": "code",
   "execution_count": 4,
   "outputs": [
    {
     "data": {
      "text/plain": "['id', 'name', 'fullname']"
     },
     "execution_count": 4,
     "metadata": {},
     "output_type": "execute_result"
    }
   ],
   "source": [
    "# 查看表所有字段\n",
    "user_table.c.keys()"
   ],
   "metadata": {
    "collapsed": false,
    "ExecuteTime": {
     "end_time": "2024-12-24T12:33:50.825762900Z",
     "start_time": "2024-12-24T12:33:50.790469600Z"
    }
   },
   "id": "c3afa1a4ab6e824e"
  },
  {
   "cell_type": "code",
   "execution_count": 5,
   "outputs": [
    {
     "data": {
      "text/plain": "PrimaryKeyConstraint(Column('id', Integer(), table=<user_account>, primary_key=True, nullable=False))"
     },
     "execution_count": 5,
     "metadata": {},
     "output_type": "execute_result"
    }
   ],
   "source": [
    "# 查看表主键\n",
    "user_table.primary_key"
   ],
   "metadata": {
    "collapsed": false,
    "ExecuteTime": {
     "end_time": "2024-12-24T12:39:05.508400400Z",
     "start_time": "2024-12-24T12:39:05.500891600Z"
    }
   },
   "id": "b7439cc2862cdd8e"
  },
  {
   "cell_type": "code",
   "execution_count": 6,
   "outputs": [],
   "source": [
    "from sqlalchemy import ForeignKey\n",
    "address_table = Table(\n",
    "    \"address\",\n",
    "    metadata_obj,\n",
    "    Column(\"id\", Integer, primary_key=True),\n",
    "    Column(\"user_id\", ForeignKey(\"user_account.id\"), nullable=False),\n",
    "    Column(\"email_address\", String, nullable=False),\n",
    ")"
   ],
   "metadata": {
    "collapsed": false,
    "ExecuteTime": {
     "end_time": "2024-12-24T12:39:28.586772Z",
     "start_time": "2024-12-24T12:39:28.575770400Z"
    }
   },
   "id": "c89b3ef16c0e5e4c"
  },
  {
   "cell_type": "markdown",
   "source": [
    "当在一个对象中使用ForeignKey对象时 Column定义，我们可以省略其数据类型 Column ;它是从相关列的数据类型自动推断出来的，在上面的示例中是user_account.id列的Integer数据类型。"
   ],
   "metadata": {
    "collapsed": false
   },
   "id": "d596b9db1d7c9e3"
  },
  {
   "cell_type": "code",
   "execution_count": null,
   "outputs": [],
   "source": [],
   "metadata": {
    "collapsed": false
   },
   "id": "bb91561dfd9e05f4"
  }
 ],
 "metadata": {
  "kernelspec": {
   "display_name": "Python 3",
   "language": "python",
   "name": "python3"
  },
  "language_info": {
   "codemirror_mode": {
    "name": "ipython",
    "version": 2
   },
   "file_extension": ".py",
   "mimetype": "text/x-python",
   "name": "python",
   "nbconvert_exporter": "python",
   "pygments_lexer": "ipython2",
   "version": "2.7.6"
  }
 },
 "nbformat": 4,
 "nbformat_minor": 5
}
