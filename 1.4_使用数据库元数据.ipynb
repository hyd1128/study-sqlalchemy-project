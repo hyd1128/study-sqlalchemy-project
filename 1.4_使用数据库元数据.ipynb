{
 "cells": [
  {
   "cell_type": "markdown",
   "source": [
    "随着引擎和 SQL 执行的停止，我们准备开始一些 Alchemy。 SQLAlchemy Core 和 ORM 的核心元素是 SQL 表达式语言，它允许流畅、可组合地构建 SQL 查询。这些查询的基础是表示表和列等数据库概念的 Python 对象。这些对象统称为数据库元数据。\n",
    "\n",
    "SQLAlchemy 中数据库元数据最常见的基础对象称为MetaData 、 Table和Column 。下面的部分将说明如何在面向 Core 的风格和面向 ORM 的风格中使用这些对象。\n",
    "\n",
    "[文档链接]{https://docs.sqlalchemy.org/en/20/tutorial/metadata.html}"
   ],
   "metadata": {
    "collapsed": false
   },
   "id": "5ba951c5f6105cd4"
  },
  {
   "cell_type": "code",
   "execution_count": 7,
   "outputs": [],
   "source": [
    "from sqlalchemy import create_engine\n",
    "engine = create_engine(\"sqlite+pysqlite:///database.sqlite\", echo=True)"
   ],
   "metadata": {
    "collapsed": false,
    "ExecuteTime": {
     "end_time": "2024-12-24T14:56:11.430186800Z",
     "start_time": "2024-12-24T14:56:11.369358300Z"
    }
   },
   "id": "80615549a241943"
  },
  {
   "cell_type": "markdown",
   "source": [
    "## 使用Table对象设置元数据"
   ],
   "metadata": {
    "collapsed": false
   },
   "id": "edfbe9766618168d"
  },
  {
   "cell_type": "code",
   "execution_count": 8,
   "outputs": [],
   "source": [
    "from sqlalchemy import MetaData\n",
    "metadata_obj = MetaData()"
   ],
   "metadata": {
    "collapsed": false,
    "ExecuteTime": {
     "end_time": "2024-12-24T14:56:14.426399200Z",
     "start_time": "2024-12-24T14:56:14.412414500Z"
    }
   },
   "id": "537c03d1da056ca1"
  },
  {
   "cell_type": "code",
   "execution_count": 9,
   "outputs": [],
   "source": [
    "from sqlalchemy import Table, Column, Integer, String\n",
    "user_table = Table(\n",
    "    \"user_account\",\n",
    "    metadata_obj,\n",
    "    Column(\"id\", Integer, primary_key=True),\n",
    "    Column(\"name\", String(30)),\n",
    "    Column(\"fullname\", String),\n",
    ")"
   ],
   "metadata": {
    "collapsed": false,
    "ExecuteTime": {
     "end_time": "2024-12-24T14:56:16.968418800Z",
     "start_time": "2024-12-24T14:56:16.956186Z"
    }
   },
   "id": "91a66bcf484e4367"
  },
  {
   "cell_type": "code",
   "execution_count": 10,
   "outputs": [
    {
     "data": {
      "text/plain": "Column('name', String(length=30), table=<user_account>)"
     },
     "execution_count": 10,
     "metadata": {},
     "output_type": "execute_result"
    }
   ],
   "source": [
    "# 查看name字段\n",
    "user_table.c.name"
   ],
   "metadata": {
    "collapsed": false,
    "ExecuteTime": {
     "end_time": "2024-12-24T14:56:18.669963900Z",
     "start_time": "2024-12-24T14:56:18.662725100Z"
    }
   },
   "id": "c2916d9eae58ff7d"
  },
  {
   "cell_type": "code",
   "execution_count": 12,
   "outputs": [
    {
     "data": {
      "text/plain": "['id', 'name', 'fullname']"
     },
     "execution_count": 12,
     "metadata": {},
     "output_type": "execute_result"
    }
   ],
   "source": [
    "# 查看表所有字段\n",
    "user_table.c.keys()"
   ],
   "metadata": {
    "collapsed": false,
    "ExecuteTime": {
     "end_time": "2024-12-24T14:56:20.530861900Z",
     "start_time": "2024-12-24T14:56:20.522730300Z"
    }
   },
   "id": "c3afa1a4ab6e824e"
  },
  {
   "cell_type": "code",
   "execution_count": 13,
   "outputs": [
    {
     "data": {
      "text/plain": "PrimaryKeyConstraint(Column('id', Integer(), table=<user_account>, primary_key=True, nullable=False))"
     },
     "execution_count": 13,
     "metadata": {},
     "output_type": "execute_result"
    }
   ],
   "source": [
    "# 查看表主键\n",
    "user_table.primary_key"
   ],
   "metadata": {
    "collapsed": false,
    "ExecuteTime": {
     "end_time": "2024-12-24T14:56:22.288952700Z",
     "start_time": "2024-12-24T14:56:22.279951500Z"
    }
   },
   "id": "b7439cc2862cdd8e"
  },
  {
   "cell_type": "code",
   "execution_count": 14,
   "outputs": [],
   "source": [
    "from sqlalchemy import ForeignKey\n",
    "address_table = Table(\n",
    "    \"address\",\n",
    "    metadata_obj,\n",
    "    Column(\"id\", Integer, primary_key=True),\n",
    "    Column(\"user_id\", ForeignKey(\"user_account.id\"), nullable=False),\n",
    "    Column(\"email_address\", String, nullable=False),\n",
    ")"
   ],
   "metadata": {
    "collapsed": false,
    "ExecuteTime": {
     "end_time": "2024-12-24T14:56:23.486934900Z",
     "start_time": "2024-12-24T14:56:23.479578400Z"
    }
   },
   "id": "c89b3ef16c0e5e4c"
  },
  {
   "cell_type": "markdown",
   "source": [
    "当在一个对象中使用ForeignKey对象时 Column定义，我们可以省略其数据类型 Column ;它是从相关列的数据类型自动推断出来的，在上面的示例中是user_account.id列的Integer数据类型。"
   ],
   "metadata": {
    "collapsed": false
   },
   "id": "d596b9db1d7c9e3"
  },
  {
   "cell_type": "code",
   "execution_count": 15,
   "outputs": [
    {
     "name": "stdout",
     "output_type": "stream",
     "text": [
      "2024-12-24 22:56:26,968 INFO sqlalchemy.engine.Engine BEGIN (implicit)\n",
      "2024-12-24 22:56:26,969 INFO sqlalchemy.engine.Engine PRAGMA main.table_info(\"user_account\")\n",
      "2024-12-24 22:56:26,970 INFO sqlalchemy.engine.Engine [raw sql] ()\n",
      "2024-12-24 22:56:26,971 INFO sqlalchemy.engine.Engine PRAGMA temp.table_info(\"user_account\")\n",
      "2024-12-24 22:56:26,971 INFO sqlalchemy.engine.Engine [raw sql] ()\n",
      "2024-12-24 22:56:26,972 INFO sqlalchemy.engine.Engine PRAGMA main.table_info(\"address\")\n",
      "2024-12-24 22:56:26,972 INFO sqlalchemy.engine.Engine [raw sql] ()\n",
      "2024-12-24 22:56:26,973 INFO sqlalchemy.engine.Engine PRAGMA temp.table_info(\"address\")\n",
      "2024-12-24 22:56:26,973 INFO sqlalchemy.engine.Engine [raw sql] ()\n",
      "2024-12-24 22:56:26,974 INFO sqlalchemy.engine.Engine \n",
      "CREATE TABLE user_account (\n",
      "\tid INTEGER NOT NULL, \n",
      "\tname VARCHAR(30), \n",
      "\tfullname VARCHAR, \n",
      "\tPRIMARY KEY (id)\n",
      ")\n",
      "\n",
      "\n",
      "2024-12-24 22:56:26,975 INFO sqlalchemy.engine.Engine [no key 0.00050s] ()\n",
      "2024-12-24 22:56:26,980 INFO sqlalchemy.engine.Engine \n",
      "CREATE TABLE address (\n",
      "\tid INTEGER NOT NULL, \n",
      "\tuser_id INTEGER NOT NULL, \n",
      "\temail_address VARCHAR NOT NULL, \n",
      "\tPRIMARY KEY (id), \n",
      "\tFOREIGN KEY(user_id) REFERENCES user_account (id)\n",
      ")\n",
      "\n",
      "\n",
      "2024-12-24 22:56:26,980 INFO sqlalchemy.engine.Engine [no key 0.00085s] ()\n",
      "2024-12-24 22:56:26,984 INFO sqlalchemy.engine.Engine COMMIT\n"
     ]
    }
   ],
   "source": [
    "metadata_obj.create_all(engine)"
   ],
   "metadata": {
    "collapsed": false,
    "ExecuteTime": {
     "end_time": "2024-12-24T14:56:27.001997100Z",
     "start_time": "2024-12-24T14:56:26.964311Z"
    }
   },
   "id": "bb91561dfd9e05f4"
  },
  {
   "cell_type": "markdown",
   "source": [
    "## 使用ORM声明式定义表元数据"
   ],
   "metadata": {
    "collapsed": false
   },
   "id": "c4d7645207e57c82"
  },
  {
   "cell_type": "code",
   "execution_count": 17,
   "outputs": [],
   "source": [
    "# 建立声明性基础\n",
    "from sqlalchemy.orm import DeclarativeBase\n",
    "class Base(DeclarativeBase):\n",
    "    pass"
   ],
   "metadata": {
    "collapsed": false,
    "ExecuteTime": {
     "end_time": "2024-12-24T15:01:24.034699100Z",
     "start_time": "2024-12-24T15:01:23.930636700Z"
    }
   },
   "id": "85c5f0291bc0e59a"
  },
  {
   "cell_type": "code",
   "execution_count": 18,
   "outputs": [
    {
     "data": {
      "text/plain": "MetaData()"
     },
     "execution_count": 18,
     "metadata": {},
     "output_type": "execute_result"
    }
   ],
   "source": [
    "Base.metadata"
   ],
   "metadata": {
    "collapsed": false,
    "ExecuteTime": {
     "end_time": "2024-12-24T15:01:26.170199300Z",
     "start_time": "2024-12-24T15:01:26.153303300Z"
    }
   },
   "id": "72bc8abf08692ab"
  },
  {
   "cell_type": "code",
   "execution_count": 20,
   "outputs": [
    {
     "data": {
      "text/plain": "<sqlalchemy.orm.decl_api.registry at 0x2566f7c1ba0>"
     },
     "execution_count": 20,
     "metadata": {},
     "output_type": "execute_result"
    }
   ],
   "source": [
    "Base.registry"
   ],
   "metadata": {
    "collapsed": false,
    "ExecuteTime": {
     "end_time": "2024-12-24T15:02:03.312365400Z",
     "start_time": "2024-12-24T15:02:03.297057700Z"
    }
   },
   "id": "61ec2d384fbe8f68"
  },
  {
   "cell_type": "code",
   "execution_count": 22,
   "outputs": [],
   "source": [
    "# 声明映射类\n",
    "from typing import List\n",
    "from typing import Optional\n",
    "from sqlalchemy.orm import Mapped\n",
    "from sqlalchemy.orm import mapped_column\n",
    "from sqlalchemy.orm import relationship"
   ],
   "metadata": {
    "collapsed": false,
    "ExecuteTime": {
     "end_time": "2024-12-24T15:03:21.105249Z",
     "start_time": "2024-12-24T15:03:21.098072400Z"
    }
   },
   "id": "8fbc11ca221c5f06"
  },
  {
   "cell_type": "code",
   "execution_count": 23,
   "outputs": [],
   "source": [
    "class User(Base):\n",
    "    __tablename__ = \"user_account\"\n",
    "    id: Mapped[int] = mapped_column(primary_key=True)\n",
    "    name: Mapped[str] = mapped_column(String(30))\n",
    "    fullname: Mapped[Optional[str]]\n",
    "    addresses: Mapped[List[\"Address\"]] = relationship(back_populates=\"user\")\n",
    "    def __repr__(self) -> str:\n",
    "        return f\"User(id={self.id!r}, name={self.name!r}, fullname={self.fullname!r})\""
   ],
   "metadata": {
    "collapsed": false,
    "ExecuteTime": {
     "end_time": "2024-12-24T15:03:22.767641700Z",
     "start_time": "2024-12-24T15:03:22.746453200Z"
    }
   },
   "id": "1de63f7a6b357384"
  },
  {
   "cell_type": "code",
   "execution_count": 24,
   "outputs": [],
   "source": [
    "class Address(Base):\n",
    "    __tablename__ = \"address\"\n",
    "    id: Mapped[int] = mapped_column(primary_key=True)\n",
    "    email_address: Mapped[str]\n",
    "    user_id = mapped_column(ForeignKey(\"user_account.id\"))\n",
    "    user: Mapped[User] = relationship(back_populates=\"addresses\")\n",
    "    def __repr__(self) -> str:\n",
    "        return f\"Address(id={self.id!r}, email_address={self.email_address!r})\""
   ],
   "metadata": {
    "collapsed": false,
    "ExecuteTime": {
     "end_time": "2024-12-24T15:03:24.406323500Z",
     "start_time": "2024-12-24T15:03:24.399324900Z"
    }
   },
   "id": "11036dcc4fcb8555"
  },
  {
   "cell_type": "code",
   "execution_count": 25,
   "outputs": [
    {
     "name": "stdout",
     "output_type": "stream",
     "text": [
      "2024-12-24 23:06:53,476 INFO sqlalchemy.engine.Engine BEGIN (implicit)\n",
      "2024-12-24 23:06:53,477 INFO sqlalchemy.engine.Engine PRAGMA main.table_info(\"user_account\")\n",
      "2024-12-24 23:06:53,477 INFO sqlalchemy.engine.Engine [raw sql] ()\n",
      "2024-12-24 23:06:53,478 INFO sqlalchemy.engine.Engine PRAGMA temp.table_info(\"user_account\")\n",
      "2024-12-24 23:06:53,480 INFO sqlalchemy.engine.Engine [raw sql] ()\n",
      "2024-12-24 23:06:53,480 INFO sqlalchemy.engine.Engine PRAGMA main.table_info(\"address\")\n",
      "2024-12-24 23:06:53,481 INFO sqlalchemy.engine.Engine [raw sql] ()\n",
      "2024-12-24 23:06:53,482 INFO sqlalchemy.engine.Engine PRAGMA temp.table_info(\"address\")\n",
      "2024-12-24 23:06:53,482 INFO sqlalchemy.engine.Engine [raw sql] ()\n",
      "2024-12-24 23:06:53,483 INFO sqlalchemy.engine.Engine \n",
      "CREATE TABLE user_account (\n",
      "\tid INTEGER NOT NULL, \n",
      "\tname VARCHAR(30) NOT NULL, \n",
      "\tfullname VARCHAR, \n",
      "\tPRIMARY KEY (id)\n",
      ")\n",
      "\n",
      "\n",
      "2024-12-24 23:06:53,483 INFO sqlalchemy.engine.Engine [no key 0.00030s] ()\n",
      "2024-12-24 23:06:53,487 INFO sqlalchemy.engine.Engine \n",
      "CREATE TABLE address (\n",
      "\tid INTEGER NOT NULL, \n",
      "\temail_address VARCHAR NOT NULL, \n",
      "\tuser_id INTEGER, \n",
      "\tPRIMARY KEY (id), \n",
      "\tFOREIGN KEY(user_id) REFERENCES user_account (id)\n",
      ")\n",
      "\n",
      "\n",
      "2024-12-24 23:06:53,488 INFO sqlalchemy.engine.Engine [no key 0.00055s] ()\n",
      "2024-12-24 23:06:53,492 INFO sqlalchemy.engine.Engine COMMIT\n"
     ]
    }
   ],
   "source": [
    "Base.metadata.create_all(engine)"
   ],
   "metadata": {
    "collapsed": false,
    "ExecuteTime": {
     "end_time": "2024-12-24T15:06:53.532321500Z",
     "start_time": "2024-12-24T15:06:53.476815200Z"
    }
   },
   "id": "7bfdf73c097a51a8"
  },
  {
   "cell_type": "markdown",
   "source": [
    "## 表反射"
   ],
   "metadata": {
    "collapsed": false
   },
   "id": "3d075eca6dbfd58b"
  },
  {
   "cell_type": "code",
   "execution_count": 26,
   "outputs": [
    {
     "name": "stdout",
     "output_type": "stream",
     "text": [
      "2024-12-24 23:08:29,420 INFO sqlalchemy.engine.Engine BEGIN (implicit)\n",
      "2024-12-24 23:08:29,420 INFO sqlalchemy.engine.Engine PRAGMA main.table_xinfo(\"some_table\")\n",
      "2024-12-24 23:08:29,421 INFO sqlalchemy.engine.Engine [raw sql] ()\n",
      "2024-12-24 23:08:29,422 INFO sqlalchemy.engine.Engine SELECT sql FROM  (SELECT * FROM sqlite_master UNION ALL   SELECT * FROM sqlite_temp_master) WHERE name = ? AND type in ('table', 'view')\n",
      "2024-12-24 23:08:29,422 INFO sqlalchemy.engine.Engine [raw sql] ('some_table',)\n",
      "2024-12-24 23:08:29,424 INFO sqlalchemy.engine.Engine PRAGMA main.foreign_key_list(\"some_table\")\n",
      "2024-12-24 23:08:29,424 INFO sqlalchemy.engine.Engine [raw sql] ()\n",
      "2024-12-24 23:08:29,425 INFO sqlalchemy.engine.Engine PRAGMA temp.foreign_key_list(\"some_table\")\n",
      "2024-12-24 23:08:29,425 INFO sqlalchemy.engine.Engine [raw sql] ()\n",
      "2024-12-24 23:08:29,425 INFO sqlalchemy.engine.Engine SELECT sql FROM  (SELECT * FROM sqlite_master UNION ALL   SELECT * FROM sqlite_temp_master) WHERE name = ? AND type in ('table', 'view')\n",
      "2024-12-24 23:08:29,426 INFO sqlalchemy.engine.Engine [raw sql] ('some_table',)\n",
      "2024-12-24 23:08:29,428 INFO sqlalchemy.engine.Engine PRAGMA main.index_list(\"some_table\")\n",
      "2024-12-24 23:08:29,429 INFO sqlalchemy.engine.Engine [raw sql] ()\n",
      "2024-12-24 23:08:29,429 INFO sqlalchemy.engine.Engine PRAGMA temp.index_list(\"some_table\")\n",
      "2024-12-24 23:08:29,429 INFO sqlalchemy.engine.Engine [raw sql] ()\n",
      "2024-12-24 23:08:29,430 INFO sqlalchemy.engine.Engine PRAGMA main.table_info(\"some_table\")\n",
      "2024-12-24 23:08:29,430 INFO sqlalchemy.engine.Engine [raw sql] ()\n",
      "2024-12-24 23:08:29,431 INFO sqlalchemy.engine.Engine PRAGMA main.index_list(\"some_table\")\n",
      "2024-12-24 23:08:29,431 INFO sqlalchemy.engine.Engine [raw sql] ()\n",
      "2024-12-24 23:08:29,432 INFO sqlalchemy.engine.Engine PRAGMA temp.index_list(\"some_table\")\n",
      "2024-12-24 23:08:29,433 INFO sqlalchemy.engine.Engine [raw sql] ()\n",
      "2024-12-24 23:08:29,433 INFO sqlalchemy.engine.Engine PRAGMA main.table_info(\"some_table\")\n",
      "2024-12-24 23:08:29,433 INFO sqlalchemy.engine.Engine [raw sql] ()\n",
      "2024-12-24 23:08:29,434 INFO sqlalchemy.engine.Engine SELECT sql FROM  (SELECT * FROM sqlite_master UNION ALL   SELECT * FROM sqlite_temp_master) WHERE name = ? AND type in ('table', 'view')\n",
      "2024-12-24 23:08:29,434 INFO sqlalchemy.engine.Engine [raw sql] ('some_table',)\n",
      "2024-12-24 23:08:29,436 INFO sqlalchemy.engine.Engine ROLLBACK\n"
     ]
    }
   ],
   "source": [
    "some_table = Table(\"some_table\", metadata_obj, autoload_with=engine)"
   ],
   "metadata": {
    "collapsed": false,
    "ExecuteTime": {
     "end_time": "2024-12-24T15:08:29.456720800Z",
     "start_time": "2024-12-24T15:08:29.419014600Z"
    }
   },
   "id": "42b9d0cc9fa9748e"
  },
  {
   "cell_type": "code",
   "execution_count": 27,
   "outputs": [
    {
     "data": {
      "text/plain": "Table('some_table', MetaData(), Column('x', INTEGER(), table=<some_table>), Column('y', INTEGER(), table=<some_table>), schema=None)"
     },
     "execution_count": 27,
     "metadata": {},
     "output_type": "execute_result"
    }
   ],
   "source": [
    "some_table"
   ],
   "metadata": {
    "collapsed": false,
    "ExecuteTime": {
     "end_time": "2024-12-24T15:08:45.124830900Z",
     "start_time": "2024-12-24T15:08:45.091830700Z"
    }
   },
   "id": "4ba0eb9d957e3f65"
  },
  {
   "cell_type": "code",
   "execution_count": 27,
   "outputs": [],
   "source": [],
   "metadata": {
    "collapsed": false,
    "ExecuteTime": {
     "end_time": "2024-12-24T15:08:52.100943100Z",
     "start_time": "2024-12-24T15:08:52.089459100Z"
    }
   },
   "id": "5407e2b6cfee96f7"
  },
  {
   "cell_type": "code",
   "execution_count": 27,
   "outputs": [],
   "source": [],
   "metadata": {
    "collapsed": false,
    "ExecuteTime": {
     "end_time": "2024-12-24T15:08:52.243663200Z",
     "start_time": "2024-12-24T15:08:52.235593200Z"
    }
   },
   "id": "99ac25c3a588f4ca"
  },
  {
   "cell_type": "code",
   "execution_count": 27,
   "outputs": [],
   "source": [],
   "metadata": {
    "collapsed": false,
    "ExecuteTime": {
     "end_time": "2024-12-24T15:08:52.366116400Z",
     "start_time": "2024-12-24T15:08:52.359121800Z"
    }
   },
   "id": "61484e4c01f78d7b"
  },
  {
   "cell_type": "code",
   "execution_count": 27,
   "outputs": [],
   "source": [],
   "metadata": {
    "collapsed": false,
    "ExecuteTime": {
     "end_time": "2024-12-24T15:08:52.537978Z",
     "start_time": "2024-12-24T15:08:52.529715900Z"
    }
   },
   "id": "f2636b314d885612"
  },
  {
   "cell_type": "code",
   "execution_count": 27,
   "outputs": [],
   "source": [],
   "metadata": {
    "collapsed": false,
    "ExecuteTime": {
     "end_time": "2024-12-24T15:08:52.668646800Z",
     "start_time": "2024-12-24T15:08:52.659087300Z"
    }
   },
   "id": "8cc12ea268bca9f0"
  },
  {
   "cell_type": "code",
   "execution_count": 27,
   "outputs": [],
   "source": [],
   "metadata": {
    "collapsed": false,
    "ExecuteTime": {
     "end_time": "2024-12-24T15:08:52.855319800Z",
     "start_time": "2024-12-24T15:08:52.847099Z"
    }
   },
   "id": "2475c5843f9557c7"
  },
  {
   "cell_type": "code",
   "execution_count": 27,
   "outputs": [],
   "source": [],
   "metadata": {
    "collapsed": false,
    "ExecuteTime": {
     "end_time": "2024-12-24T15:08:52.993345500Z",
     "start_time": "2024-12-24T15:08:52.980652600Z"
    }
   },
   "id": "ac35efb666715c85"
  },
  {
   "cell_type": "code",
   "execution_count": null,
   "outputs": [],
   "source": [],
   "metadata": {
    "collapsed": false
   },
   "id": "33c15aeb76805426"
  }
 ],
 "metadata": {
  "kernelspec": {
   "display_name": "Python 3",
   "language": "python",
   "name": "python3"
  },
  "language_info": {
   "codemirror_mode": {
    "name": "ipython",
    "version": 2
   },
   "file_extension": ".py",
   "mimetype": "text/x-python",
   "name": "python",
   "nbconvert_exporter": "python",
   "pygments_lexer": "ipython2",
   "version": "2.7.6"
  }
 },
 "nbformat": 4,
 "nbformat_minor": 5
}
