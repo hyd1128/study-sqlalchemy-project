{
 "cells": [
  {
   "cell_type": "code",
   "execution_count": 43,
   "id": "initial_id",
   "metadata": {
    "collapsed": true,
    "ExecuteTime": {
     "end_time": "2024-12-24T12:00:11.750652900Z",
     "start_time": "2024-12-24T12:00:11.738561800Z"
    }
   },
   "outputs": [],
   "source": [
    "from sqlalchemy import create_engine"
   ]
  },
  {
   "cell_type": "code",
   "execution_count": 44,
   "outputs": [],
   "source": [
    "engine = create_engine(\"sqlite+pysqlite:///database.sqlite\", echo=True)"
   ],
   "metadata": {
    "collapsed": false,
    "ExecuteTime": {
     "end_time": "2024-12-24T12:00:11.778462700Z",
     "start_time": "2024-12-24T12:00:11.749231400Z"
    }
   },
   "id": "c8561b2c0deb7f98"
  },
  {
   "cell_type": "code",
   "execution_count": 45,
   "outputs": [],
   "source": [
    "from sqlalchemy import text"
   ],
   "metadata": {
    "collapsed": false,
    "ExecuteTime": {
     "end_time": "2024-12-24T12:00:11.779477600Z",
     "start_time": "2024-12-24T12:00:11.764199600Z"
    }
   },
   "id": "e28d0e9477fd4206"
  },
  {
   "cell_type": "code",
   "execution_count": 46,
   "outputs": [
    {
     "name": "stdout",
     "output_type": "stream",
     "text": [
      "2024-12-24 20:00:11,780 INFO sqlalchemy.engine.Engine BEGIN (implicit)\n",
      "2024-12-24 20:00:11,781 INFO sqlalchemy.engine.Engine select 'hello world'\n",
      "2024-12-24 20:00:11,781 INFO sqlalchemy.engine.Engine [generated in 0.00116s] ()\n",
      "[('hello world',)]\n",
      "2024-12-24 20:00:11,782 INFO sqlalchemy.engine.Engine ROLLBACK\n"
     ]
    }
   ],
   "source": [
    "with engine.connect() as conn:\n",
    "    result = conn.execute(text(\"select 'hello world'\"))\n",
    "    print(result.all())"
   ],
   "metadata": {
    "collapsed": false,
    "ExecuteTime": {
     "end_time": "2024-12-24T12:00:11.794534Z",
     "start_time": "2024-12-24T12:00:11.779477600Z"
    }
   },
   "id": "84ea98b413f4025c"
  },
  {
   "cell_type": "code",
   "execution_count": 47,
   "outputs": [],
   "source": [
    "# with engine.connect() as conn:\n",
    "#     conn.execute(text(\"CREATE TABLE some_table (x int, y int)\"))\n",
    "#     conn.execute(\n",
    "#         text(\"INSERT INTO some_table (x, y) VALUES (:x, :y)\"),\n",
    "#         [{\"x\": 1, \"y\": 1}, {\"x\": 2, \"y\": 4}],\n",
    "#     )\n",
    "#     conn.commit()"
   ],
   "metadata": {
    "collapsed": false,
    "ExecuteTime": {
     "end_time": "2024-12-24T12:00:11.828775900Z",
     "start_time": "2024-12-24T12:00:11.794534Z"
    }
   },
   "id": "d255338de84bd581"
  },
  {
   "cell_type": "code",
   "execution_count": 48,
   "outputs": [
    {
     "name": "stdout",
     "output_type": "stream",
     "text": [
      "2024-12-24 20:00:11,811 INFO sqlalchemy.engine.Engine BEGIN (implicit)\n",
      "2024-12-24 20:00:11,811 INFO sqlalchemy.engine.Engine INSERT INTO some_table (x, y) VALUES (?, ?)\n",
      "2024-12-24 20:00:11,812 INFO sqlalchemy.engine.Engine [generated in 0.00048s] [(6, 8), (9, 10)]\n",
      "2024-12-24 20:00:11,813 INFO sqlalchemy.engine.Engine COMMIT\n"
     ]
    }
   ],
   "source": [
    "with engine.begin() as conn:\n",
    "    conn.execute(\n",
    "        text(\"INSERT INTO some_table (x, y) VALUES (:x, :y)\"),\n",
    "        [{\"x\": 6, \"y\": 8}, {\"x\": 9, \"y\": 10}],\n",
    "    )"
   ],
   "metadata": {
    "collapsed": false,
    "ExecuteTime": {
     "end_time": "2024-12-24T12:00:11.833775700Z",
     "start_time": "2024-12-24T12:00:11.810978200Z"
    }
   },
   "id": "68966fbc9c6153a3"
  },
  {
   "cell_type": "code",
   "execution_count": 52,
   "outputs": [
    {
     "name": "stdout",
     "output_type": "stream",
     "text": [
      "2024-12-24 20:01:19,908 INFO sqlalchemy.engine.Engine BEGIN (implicit)\n",
      "2024-12-24 20:01:19,908 INFO sqlalchemy.engine.Engine select x, y from some_table\n",
      "2024-12-24 20:01:19,909 INFO sqlalchemy.engine.Engine [cached since 43.91s ago] ()\n",
      "1 -- 1\n",
      "2 -- 4\n",
      "6 -- 8\n",
      "9 -- 10\n",
      "6 -- 8\n",
      "9 -- 10\n",
      "6 -- 8\n",
      "9 -- 10\n",
      "6 -- 8\n",
      "9 -- 10\n",
      "2024-12-24 20:01:19,910 INFO sqlalchemy.engine.Engine COMMIT\n"
     ]
    }
   ],
   "source": [
    "with engine.begin() as conn:\n",
    "    # 元组获取\n",
    "    # result = conn.execute(text(\"select x, y from some_table\"))\n",
    "    # \n",
    "    # for x, y in result:\n",
    "    #     print(f\"{x} - {y}\")\n",
    "    \n",
    "    # 整数索引\n",
    "    # result = conn.execute(text(\"select x, y from some_table\"))\n",
    "    # \n",
    "    # for row in result:\n",
    "    #     x = row[0]\n",
    "    #     print(x)\n",
    "\n",
    "    # 属性名称\n",
    "    # result = conn.execute(text(\"select x, y from some_table\"))\n",
    "    # for row in result:\n",
    "    #     y = row.y\n",
    "    # \n",
    "    #     # illustrate use with Python f-strings\n",
    "    #     print(f\"Row: {row.x} {y}\")\n",
    "    \n",
    "    # 映射访问\n",
    "    result = conn.execute(text(\"select x, y from some_table\"))\n",
    "\n",
    "    for dict_row in result.mappings():\n",
    "        x = dict_row[\"x\"]\n",
    "        y = dict_row[\"y\"]\n",
    "        print(f\"{x} -- {y}\")\n",
    "    "
   ],
   "metadata": {
    "collapsed": false,
    "ExecuteTime": {
     "end_time": "2024-12-24T12:01:19.916052800Z",
     "start_time": "2024-12-24T12:01:19.907942900Z"
    }
   },
   "id": "db39ecbe11b974cd"
  },
  {
   "cell_type": "code",
   "execution_count": 53,
   "outputs": [
    {
     "name": "stdout",
     "output_type": "stream",
     "text": [
      "2024-12-24 20:22:36,957 INFO sqlalchemy.engine.Engine BEGIN (implicit)\n",
      "2024-12-24 20:22:36,957 INFO sqlalchemy.engine.Engine SELECT x, y FROM some_table WHERE y > ?\n",
      "2024-12-24 20:22:36,958 INFO sqlalchemy.engine.Engine [generated in 0.00092s] (2,)\n",
      "x: 2  y: 4\n",
      "x: 6  y: 8\n",
      "x: 9  y: 10\n",
      "x: 6  y: 8\n",
      "x: 9  y: 10\n",
      "x: 6  y: 8\n",
      "x: 9  y: 10\n",
      "x: 6  y: 8\n",
      "x: 9  y: 10\n",
      "2024-12-24 20:22:36,959 INFO sqlalchemy.engine.Engine ROLLBACK\n"
     ]
    }
   ],
   "source": [
    "# 发送参数\n",
    "with engine.connect() as conn:\n",
    "    result = conn.execute(text(\"SELECT x, y FROM some_table WHERE y > :y\"), {\"y\": 2})\n",
    "    for row in result:\n",
    "        print(f\"x: {row.x}  y: {row.y}\")\n"
   ],
   "metadata": {
    "collapsed": false,
    "ExecuteTime": {
     "end_time": "2024-12-24T12:22:36.991765300Z",
     "start_time": "2024-12-24T12:22:36.957766100Z"
    }
   },
   "id": "36eb83203cf6ae53"
  },
  {
   "cell_type": "code",
   "execution_count": 54,
   "outputs": [
    {
     "name": "stdout",
     "output_type": "stream",
     "text": [
      "2024-12-24 20:23:37,521 INFO sqlalchemy.engine.Engine BEGIN (implicit)\n",
      "2024-12-24 20:23:37,524 INFO sqlalchemy.engine.Engine INSERT INTO some_table (x, y) VALUES (?, ?)\n",
      "2024-12-24 20:23:37,526 INFO sqlalchemy.engine.Engine [cached since 1407s ago] [(11, 12), (13, 14)]\n",
      "2024-12-24 20:23:37,533 INFO sqlalchemy.engine.Engine COMMIT\n"
     ]
    }
   ],
   "source": [
    "# 发送多个参数\n",
    "with engine.connect() as conn:\n",
    "    conn.execute(\n",
    "        text(\"INSERT INTO some_table (x, y) VALUES (:x, :y)\"),\n",
    "        [{\"x\": 11, \"y\": 12}, {\"x\": 13, \"y\": 14}],\n",
    "    )\n",
    "    conn.commit()"
   ],
   "metadata": {
    "collapsed": false,
    "ExecuteTime": {
     "end_time": "2024-12-24T12:23:37.556735900Z",
     "start_time": "2024-12-24T12:23:37.535984700Z"
    }
   },
   "id": "ddad327c22ea0c59"
  },
  {
   "cell_type": "markdown",
   "source": [
    "## 使用ORM会话执行\n",
    "\n",
    "Session有几种不同的创建模式，但在这里我们将说明最基本的一种模式，它准确跟踪Connection的使用方式，即在上下文管理器中构造它："
   ],
   "metadata": {
    "collapsed": false
   },
   "id": "5db89bfbb317a22a"
  },
  {
   "cell_type": "code",
   "execution_count": 56,
   "outputs": [
    {
     "name": "stdout",
     "output_type": "stream",
     "text": [
      "2024-12-24 20:26:04,891 INFO sqlalchemy.engine.Engine BEGIN (implicit)\n",
      "2024-12-24 20:26:04,892 INFO sqlalchemy.engine.Engine SELECT x, y FROM some_table WHERE y > ? ORDER BY x, y\n",
      "2024-12-24 20:26:04,892 INFO sqlalchemy.engine.Engine [cached since 45.14s ago] (6,)\n",
      "2024-12-24 20:26:04,893 INFO sqlalchemy.engine.Engine ROLLBACK\n"
     ]
    }
   ],
   "source": [
    "from sqlalchemy.orm import Session\n",
    "\n",
    "stmt = text(\"SELECT x, y FROM some_table WHERE y > :y ORDER BY x, y\")\n",
    "with Session(engine) as session:\n",
    "    result = session.execute(stmt, {\"y\": 6})\n",
    "    for row in result:\n",
    "        print(f\"x: {row.x}  y: {row.y}\")"
   ],
   "metadata": {
    "collapsed": false,
    "ExecuteTime": {
     "end_time": "2024-12-24T12:26:04.906793100Z",
     "start_time": "2024-12-24T12:26:04.891795Z"
    }
   },
   "id": "a0a5bc44fce588a"
  },
  {
   "cell_type": "code",
   "execution_count": 59,
   "outputs": [
    {
     "name": "stdout",
     "output_type": "stream",
     "text": [
      "2024-12-24 20:27:24,357 INFO sqlalchemy.engine.Engine BEGIN (implicit)\n",
      "2024-12-24 20:27:24,357 INFO sqlalchemy.engine.Engine UPDATE some_table SET y=? WHERE x=?\n",
      "2024-12-24 20:27:24,358 INFO sqlalchemy.engine.Engine [cached since 62.33s ago] [(11, 9), (15, 13)]\n",
      "2024-12-24 20:27:24,359 INFO sqlalchemy.engine.Engine COMMIT\n"
     ]
    }
   ],
   "source": [
    "with Session(engine) as session:\n",
    "    result = session.execute(\n",
    "        text(\"UPDATE some_table SET y=:y WHERE x=:x\"),\n",
    "        [{\"x\": 9, \"y\": 11}, {\"x\": 13, \"y\": 15}],\n",
    "    )\n",
    "    session.commit()"
   ],
   "metadata": {
    "collapsed": false,
    "ExecuteTime": {
     "end_time": "2024-12-24T12:27:24.377171900Z",
     "start_time": "2024-12-24T12:27:24.357116800Z"
    }
   },
   "id": "1c585296ec8c833f"
  },
  {
   "cell_type": "code",
   "execution_count": 49,
   "outputs": [],
   "source": [],
   "metadata": {
    "collapsed": false,
    "ExecuteTime": {
     "end_time": "2024-12-24T12:00:11.936234300Z",
     "start_time": "2024-12-24T12:00:11.921622700Z"
    }
   },
   "id": "876f0699098060e2"
  }
 ],
 "metadata": {
  "kernelspec": {
   "display_name": "Python 3",
   "language": "python",
   "name": "python3"
  },
  "language_info": {
   "codemirror_mode": {
    "name": "ipython",
    "version": 2
   },
   "file_extension": ".py",
   "mimetype": "text/x-python",
   "name": "python",
   "nbconvert_exporter": "python",
   "pygments_lexer": "ipython2",
   "version": "2.7.6"
  }
 },
 "nbformat": 4,
 "nbformat_minor": 5
}
