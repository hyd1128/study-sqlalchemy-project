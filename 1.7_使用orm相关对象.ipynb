{
 "cells": [
  {
   "cell_type": "code",
   "execution_count": 34,
   "id": "initial_id",
   "metadata": {
    "collapsed": true,
    "ExecuteTime": {
     "end_time": "2024-12-25T09:26:37.588947300Z",
     "start_time": "2024-12-25T09:26:37.507919900Z"
    }
   },
   "outputs": [],
   "source": [
    "from sqlalchemy import create_engine, ForeignKey, String\n",
    "\n",
    "engine = create_engine(\"sqlite+pysqlite:///database.sqlite\", echo=True)\n",
    "\n",
    "# 建立声明性基础\n",
    "from sqlalchemy.orm import DeclarativeBase\n",
    "\n",
    "\n",
    "class Base(DeclarativeBase):\n",
    "    pass\n",
    "\n",
    "\n",
    "# 声明映射类\n",
    "from typing import List\n",
    "from typing import Optional\n",
    "from sqlalchemy.orm import Mapped\n",
    "from sqlalchemy.orm import mapped_column\n",
    "from sqlalchemy.orm import relationship\n",
    "\n",
    "\n",
    "class User(Base):\n",
    "    __tablename__ = \"user_account\"\n",
    "    id: Mapped[int] = mapped_column(primary_key=True)\n",
    "    name: Mapped[str] = mapped_column(String(30))\n",
    "    fullname: Mapped[Optional[str]]\n",
    "    addresses: Mapped[List[\"Address\"]] = relationship(back_populates=\"user\")\n",
    "\n",
    "    def __repr__(self) -> str:\n",
    "        return f\"User(id={self.id!r}, name={self.name!r}, fullname={self.fullname!r})\"\n",
    "\n",
    "\n",
    "class Address(Base):\n",
    "    __tablename__ = \"address\"\n",
    "    id: Mapped[int] = mapped_column(primary_key=True)\n",
    "    email_address: Mapped[str]\n",
    "    user_id = mapped_column(ForeignKey(\"user_account.id\"))\n",
    "    user: Mapped[User] = relationship(back_populates=\"addresses\")\n",
    "\n",
    "    def __repr__(self) -> str:\n",
    "        return f\"Address(id={self.id!r}, email_address={self.email_address!r})\""
   ]
  },
  {
   "cell_type": "code",
   "execution_count": 35,
   "outputs": [],
   "source": [
    "u1 = User(name=\"pkrabs\", fullname=\"Pearl Krabs\")"
   ],
   "metadata": {
    "collapsed": false,
    "ExecuteTime": {
     "end_time": "2024-12-25T09:26:37.608911900Z",
     "start_time": "2024-12-25T09:26:37.522821100Z"
    }
   },
   "id": "d5e63eac599ac4b0"
  },
  {
   "cell_type": "code",
   "execution_count": 36,
   "outputs": [
    {
     "data": {
      "text/plain": "[]"
     },
     "execution_count": 36,
     "metadata": {},
     "output_type": "execute_result"
    }
   ],
   "source": [
    "u1.addresses"
   ],
   "metadata": {
    "collapsed": false,
    "ExecuteTime": {
     "end_time": "2024-12-25T09:26:37.608911900Z",
     "start_time": "2024-12-25T09:26:37.536190900Z"
    }
   },
   "id": "843702a4a5e7b2a9"
  },
  {
   "cell_type": "code",
   "execution_count": 37,
   "outputs": [],
   "source": [
    "a1 = Address(email_address=\"pearl.krabs@gmail.com\")"
   ],
   "metadata": {
    "collapsed": false,
    "ExecuteTime": {
     "end_time": "2024-12-25T09:26:37.608911900Z",
     "start_time": "2024-12-25T09:26:37.552863800Z"
    }
   },
   "id": "d8a3d05812c89324"
  },
  {
   "cell_type": "code",
   "execution_count": 38,
   "outputs": [],
   "source": [
    "u1.addresses.append(a1)"
   ],
   "metadata": {
    "collapsed": false,
    "ExecuteTime": {
     "end_time": "2024-12-25T09:26:37.608911900Z",
     "start_time": "2024-12-25T09:26:37.569216600Z"
    }
   },
   "id": "1654e192610b8edf"
  },
  {
   "cell_type": "code",
   "execution_count": 39,
   "outputs": [
    {
     "data": {
      "text/plain": "[Address(id=None, email_address='pearl.krabs@gmail.com')]"
     },
     "execution_count": 39,
     "metadata": {},
     "output_type": "execute_result"
    }
   ],
   "source": [
    "u1.addresses"
   ],
   "metadata": {
    "collapsed": false,
    "ExecuteTime": {
     "end_time": "2024-12-25T09:26:37.609971800Z",
     "start_time": "2024-12-25T09:26:37.583320Z"
    }
   },
   "id": "d3038f088d2154"
  },
  {
   "cell_type": "code",
   "execution_count": 40,
   "outputs": [
    {
     "data": {
      "text/plain": "User(id=None, name='pkrabs', fullname='Pearl Krabs')"
     },
     "execution_count": 40,
     "metadata": {},
     "output_type": "execute_result"
    }
   ],
   "source": [
    "a1.user"
   ],
   "metadata": {
    "collapsed": false,
    "ExecuteTime": {
     "end_time": "2024-12-25T09:26:37.623490Z",
     "start_time": "2024-12-25T09:26:37.600076400Z"
    }
   },
   "id": "36b5b2f563f07d89"
  },
  {
   "cell_type": "code",
   "execution_count": 41,
   "outputs": [],
   "source": [
    "a2 = Address(email_address=\"pearl@aol.com\", user=u1)"
   ],
   "metadata": {
    "collapsed": false,
    "ExecuteTime": {
     "end_time": "2024-12-25T09:26:37.659709900Z",
     "start_time": "2024-12-25T09:26:37.617739900Z"
    }
   },
   "id": "89236f343271d30a"
  },
  {
   "cell_type": "code",
   "execution_count": 42,
   "outputs": [
    {
     "data": {
      "text/plain": "[Address(id=None, email_address='pearl.krabs@gmail.com'),\n Address(id=None, email_address='pearl@aol.com')]"
     },
     "execution_count": 42,
     "metadata": {},
     "output_type": "execute_result"
    }
   ],
   "source": [
    "u1.addresses"
   ],
   "metadata": {
    "collapsed": false,
    "ExecuteTime": {
     "end_time": "2024-12-25T09:26:37.660709900Z",
     "start_time": "2024-12-25T09:26:37.632168500Z"
    }
   },
   "id": "1dad3df2d04838ef"
  },
  {
   "cell_type": "code",
   "execution_count": 43,
   "outputs": [
    {
     "data": {
      "text/plain": "User(id=None, name='pkrabs', fullname='Pearl Krabs')"
     },
     "execution_count": 43,
     "metadata": {},
     "output_type": "execute_result"
    }
   ],
   "source": [
    "a2.user"
   ],
   "metadata": {
    "collapsed": false,
    "ExecuteTime": {
     "end_time": "2024-12-25T09:26:37.669466300Z",
     "start_time": "2024-12-25T09:26:37.647566800Z"
    }
   },
   "id": "8cefca8e4358ae04"
  },
  {
   "cell_type": "code",
   "execution_count": 44,
   "outputs": [],
   "source": [
    "from sqlalchemy.orm import Session\n",
    "\n",
    "session = Session(engine)"
   ],
   "metadata": {
    "collapsed": false,
    "ExecuteTime": {
     "end_time": "2024-12-25T09:26:37.691635300Z",
     "start_time": "2024-12-25T09:26:37.663710300Z"
    }
   },
   "id": "45e046aa50aa86e0"
  },
  {
   "cell_type": "code",
   "execution_count": 52,
   "outputs": [],
   "source": [
    "session.add(u1)"
   ],
   "metadata": {
    "collapsed": false,
    "ExecuteTime": {
     "end_time": "2024-12-25T09:29:41.858537600Z",
     "start_time": "2024-12-25T09:29:41.844536Z"
    }
   },
   "id": "43230900e2c56cba"
  },
  {
   "cell_type": "code",
   "execution_count": 54,
   "outputs": [
    {
     "data": {
      "text/plain": "True"
     },
     "execution_count": 54,
     "metadata": {},
     "output_type": "execute_result"
    }
   ],
   "source": [
    "u1 in session"
   ],
   "metadata": {
    "collapsed": false,
    "ExecuteTime": {
     "end_time": "2024-12-25T09:29:55.516541500Z",
     "start_time": "2024-12-25T09:29:55.485130500Z"
    }
   },
   "id": "26f0265b14be4ffe"
  },
  {
   "cell_type": "code",
   "execution_count": 55,
   "outputs": [
    {
     "data": {
      "text/plain": "True"
     },
     "execution_count": 55,
     "metadata": {},
     "output_type": "execute_result"
    }
   ],
   "source": [
    "a1 in session"
   ],
   "metadata": {
    "collapsed": false,
    "ExecuteTime": {
     "end_time": "2024-12-25T09:30:04.932823500Z",
     "start_time": "2024-12-25T09:30:04.923834800Z"
    }
   },
   "id": "22e06c9d21b41787"
  },
  {
   "cell_type": "code",
   "execution_count": 56,
   "outputs": [
    {
     "data": {
      "text/plain": "True"
     },
     "execution_count": 56,
     "metadata": {},
     "output_type": "execute_result"
    }
   ],
   "source": [
    "a2 in session"
   ],
   "metadata": {
    "collapsed": false,
    "ExecuteTime": {
     "end_time": "2024-12-25T09:30:09.384837200Z",
     "start_time": "2024-12-25T09:30:09.340560700Z"
    }
   },
   "id": "3147c79fe7e85181"
  },
  {
   "cell_type": "code",
   "execution_count": 58,
   "outputs": [
    {
     "name": "stdout",
     "output_type": "stream",
     "text": [
      "2024-12-25 17:30:19,884 INFO sqlalchemy.engine.Engine BEGIN (implicit)\n",
      "2024-12-25 17:30:19,886 INFO sqlalchemy.engine.Engine INSERT INTO user_account (name, fullname) VALUES (?, ?)\n",
      "2024-12-25 17:30:19,886 INFO sqlalchemy.engine.Engine [generated in 0.00072s] ('pkrabs', 'Pearl Krabs')\n",
      "2024-12-25 17:30:19,889 INFO sqlalchemy.engine.Engine INSERT INTO address (email_address, user_id) VALUES (?, ?) RETURNING id\n",
      "2024-12-25 17:30:19,890 INFO sqlalchemy.engine.Engine [generated in 0.00006s (insertmanyvalues) 1/2 (ordered; batch not supported)] ('pearl.krabs@gmail.com', 3)\n",
      "2024-12-25 17:30:19,891 INFO sqlalchemy.engine.Engine INSERT INTO address (email_address, user_id) VALUES (?, ?) RETURNING id\n",
      "2024-12-25 17:30:19,892 INFO sqlalchemy.engine.Engine [insertmanyvalues 2/2 (ordered; batch not supported)] ('pearl@aol.com', 3)\n",
      "2024-12-25 17:30:19,893 INFO sqlalchemy.engine.Engine COMMIT\n"
     ]
    }
   ],
   "source": [
    "session.commit()"
   ],
   "metadata": {
    "collapsed": false,
    "ExecuteTime": {
     "end_time": "2024-12-25T09:30:19.917368200Z",
     "start_time": "2024-12-25T09:30:19.882744300Z"
    }
   },
   "id": "99a1767c56270f19"
  },
  {
   "cell_type": "code",
   "execution_count": 59,
   "outputs": [
    {
     "name": "stdout",
     "output_type": "stream",
     "text": [
      "3\n"
     ]
    }
   ],
   "source": [
    "print(u1.id)"
   ],
   "metadata": {
    "collapsed": false,
    "ExecuteTime": {
     "end_time": "2024-12-25T09:30:30.133231100Z",
     "start_time": "2024-12-25T09:30:30.130229900Z"
    }
   },
   "id": "12bac9c7bbe012aa"
  },
  {
   "cell_type": "code",
   "execution_count": 60,
   "outputs": [
    {
     "name": "stdout",
     "output_type": "stream",
     "text": [
      "3\n"
     ]
    }
   ],
   "source": [
    "print(a1.user.id)"
   ],
   "metadata": {
    "collapsed": false,
    "ExecuteTime": {
     "end_time": "2024-12-25T09:30:31.938629900Z",
     "start_time": "2024-12-25T09:30:31.931195Z"
    }
   },
   "id": "801f6d8cd88be554"
  },
  {
   "cell_type": "code",
   "execution_count": 64,
   "outputs": [
    {
     "name": "stdout",
     "output_type": "stream",
     "text": [
      "3\n"
     ]
    }
   ],
   "source": [
    "print(a2.user.id)"
   ],
   "metadata": {
    "collapsed": false,
    "ExecuteTime": {
     "end_time": "2024-12-25T09:30:51.078159400Z",
     "start_time": "2024-12-25T09:30:51.057373800Z"
    }
   },
   "id": "581e3a4c69a9256b"
  },
  {
   "cell_type": "code",
   "execution_count": 66,
   "outputs": [
    {
     "data": {
      "text/plain": "Address(id=7, email_address='pearl.krabs@gmail.com')"
     },
     "execution_count": 66,
     "metadata": {},
     "output_type": "execute_result"
    }
   ],
   "source": [
    "a1"
   ],
   "metadata": {
    "collapsed": false,
    "ExecuteTime": {
     "end_time": "2024-12-25T09:31:07.446700700Z",
     "start_time": "2024-12-25T09:31:07.428579200Z"
    }
   },
   "id": "3117e508035e45a"
  },
  {
   "cell_type": "code",
   "execution_count": 69,
   "outputs": [
    {
     "data": {
      "text/plain": "Address(id=8, email_address='pearl@aol.com')"
     },
     "execution_count": 69,
     "metadata": {},
     "output_type": "execute_result"
    }
   ],
   "source": [
    "a2"
   ],
   "metadata": {
    "collapsed": false,
    "ExecuteTime": {
     "end_time": "2024-12-25T09:31:11.024464200Z",
     "start_time": "2024-12-25T09:31:11.000474300Z"
    }
   },
   "id": "1d919d6002524638"
  },
  {
   "cell_type": "code",
   "execution_count": 71,
   "outputs": [
    {
     "name": "stdout",
     "output_type": "stream",
     "text": [
      "SELECT address.email_address \n",
      "FROM user_account JOIN address ON user_account.id = address.user_id\n"
     ]
    }
   ],
   "source": [
    "from sqlalchemy import select\n",
    "\n",
    "print(select(Address.email_address).select_from(User).join(User.addresses))"
   ],
   "metadata": {
    "collapsed": false,
    "ExecuteTime": {
     "end_time": "2024-12-25T09:31:25.977643100Z",
     "start_time": "2024-12-25T09:31:25.959489800Z"
    }
   },
   "id": "af85b734e0d62197"
  },
  {
   "cell_type": "markdown",
   "source": [
    "### 加载器策略 (延迟加载)"
   ],
   "metadata": {
    "collapsed": false
   },
   "id": "4490c64af3688516"
  },
  {
   "cell_type": "code",
   "execution_count": 78,
   "outputs": [
    {
     "name": "stdout",
     "output_type": "stream",
     "text": [
      "2024-12-25 17:37:04,069 INFO sqlalchemy.engine.Engine SELECT user_account.id, user_account.name, user_account.fullname \n",
      "FROM user_account\n",
      "2024-12-25 17:37:04,070 INFO sqlalchemy.engine.Engine [cached since 131.1s ago] ()\n",
      "2024-12-25 17:37:04,072 INFO sqlalchemy.engine.Engine SELECT address.user_id AS address_user_id, address.id AS address_id, address.email_address AS address_email_address \n",
      "FROM address \n",
      "WHERE address.user_id IN (?, ?, ?)\n",
      "2024-12-25 17:37:04,073 INFO sqlalchemy.engine.Engine [cached since 131.1s ago] (1, 2, 3)\n",
      "#############################\n",
      "[Address(id=1, email_address='spongebob@sqlalchemy.org'), Address(id=4, email_address='spongebob@sqlalchemy.org')]\n",
      "#############################\n",
      "[Address(id=2, email_address='sandy@sqlalchemy.org'), Address(id=3, email_address='sandy@squirrelpower.org'), Address(id=5, email_address='sandy@sqlalchemy.org'), Address(id=6, email_address='sandy@squirrelpower.org')]\n",
      "#############################\n",
      "[Address(id=7, email_address='pearl.krabs@gmail.com'), Address(id=8, email_address='pearl@aol.com')]\n"
     ]
    }
   ],
   "source": [
    "from sqlalchemy.orm import selectinload\n",
    "\n",
    "for user_obj in session.execute(select(User).options(selectinload(User.addresses))).scalars():\n",
    "    print(\"#############################\")\n",
    "    print(user_obj.addresses)  # access addresses collection already loaded"
   ],
   "metadata": {
    "collapsed": false,
    "ExecuteTime": {
     "end_time": "2024-12-25T09:37:04.095338500Z",
     "start_time": "2024-12-25T09:37:04.070592Z"
    }
   },
   "id": "dbf29d9f06009555"
  },
  {
   "cell_type": "code",
   "execution_count": 79,
   "outputs": [
    {
     "name": "stdout",
     "output_type": "stream",
     "text": [
      "2024-12-25 17:41:07,417 INFO sqlalchemy.engine.Engine SELECT user_account.id, user_account.name, user_account.fullname \n",
      "FROM user_account ORDER BY user_account.id\n",
      "2024-12-25 17:41:07,418 INFO sqlalchemy.engine.Engine [generated in 0.00076s] ()\n",
      "2024-12-25 17:41:07,420 INFO sqlalchemy.engine.Engine SELECT address.user_id AS address_user_id, address.id AS address_id, address.email_address AS address_email_address \n",
      "FROM address \n",
      "WHERE address.user_id IN (?, ?, ?)\n",
      "2024-12-25 17:41:07,421 INFO sqlalchemy.engine.Engine [cached since 374.4s ago] (1, 2, 3)\n",
      "squidward  (spongebob@sqlalchemy.org, spongebob@sqlalchemy.org)\n",
      "ehkrabs  (sandy@sqlalchemy.org, sandy@squirrelpower.org, sandy@sqlalchemy.org, sandy@squirrelpower.org)\n",
      "pkrabs  (pearl.krabs@gmail.com, pearl@aol.com)\n"
     ]
    }
   ],
   "source": [
    "from sqlalchemy.orm import selectinload\n",
    "stmt = select(User).options(selectinload(User.addresses)).order_by(User.id)\n",
    "for row in session.execute(stmt):\n",
    "    print(\n",
    "        f\"{row.User.name}  ({', '.join(a.email_address for a in row.User.addresses)})\"\n",
    "    )"
   ],
   "metadata": {
    "collapsed": false,
    "ExecuteTime": {
     "end_time": "2024-12-25T09:41:07.432402700Z",
     "start_time": "2024-12-25T09:41:07.415989500Z"
    }
   },
   "id": "c6e660c2266afe7d"
  },
  {
   "cell_type": "code",
   "execution_count": 80,
   "outputs": [
    {
     "name": "stdout",
     "output_type": "stream",
     "text": [
      "2024-12-25 17:46:10,856 INFO sqlalchemy.engine.Engine SELECT address.id, address.email_address, address.user_id, user_account_1.id AS id_1, user_account_1.name, user_account_1.fullname \n",
      "FROM address JOIN user_account AS user_account_1 ON user_account_1.id = address.user_id ORDER BY address.id\n",
      "2024-12-25 17:46:10,857 INFO sqlalchemy.engine.Engine [generated in 0.00122s] ()\n",
      "spongebob@sqlalchemy.org squidward\n",
      "sandy@sqlalchemy.org ehkrabs\n",
      "sandy@squirrelpower.org ehkrabs\n",
      "spongebob@sqlalchemy.org squidward\n",
      "sandy@sqlalchemy.org ehkrabs\n",
      "sandy@squirrelpower.org ehkrabs\n",
      "pearl.krabs@gmail.com pkrabs\n",
      "pearl@aol.com pkrabs\n"
     ]
    }
   ],
   "source": [
    "from sqlalchemy.orm import joinedload\n",
    "stmt = (\n",
    "    select(Address)\n",
    "    .options(joinedload(Address.user, innerjoin=True))\n",
    "    .order_by(Address.id)\n",
    ")\n",
    "for row in session.execute(stmt):\n",
    "    print(f\"{row.Address.email_address} {row.Address.user.name}\")"
   ],
   "metadata": {
    "collapsed": false,
    "ExecuteTime": {
     "end_time": "2024-12-25T09:46:10.890852700Z",
     "start_time": "2024-12-25T09:46:10.854312Z"
    }
   },
   "id": "9f1692078cd3c070"
  },
  {
   "cell_type": "code",
   "execution_count": 81,
   "outputs": [
    {
     "name": "stdout",
     "output_type": "stream",
     "text": [
      "2024-12-25 17:47:53,078 INFO sqlalchemy.engine.Engine SELECT user_account.id, user_account.name, user_account.fullname, address.id AS id_1, address.email_address, address.user_id \n",
      "FROM address JOIN user_account ON user_account.id = address.user_id \n",
      "WHERE user_account.name = ? ORDER BY address.id\n",
      "2024-12-25 17:47:53,079 INFO sqlalchemy.engine.Engine [generated in 0.00085s] ('pkrabs',)\n",
      "pearl.krabs@gmail.com pkrabs\n",
      "pearl@aol.com pkrabs\n"
     ]
    }
   ],
   "source": [
    "from sqlalchemy.orm import contains_eager\n",
    "stmt = (\n",
    "    select(Address)\n",
    "    .join(Address.user)\n",
    "    .where(User.name == \"pkrabs\")\n",
    "    .options(contains_eager(Address.user))\n",
    "    .order_by(Address.id)\n",
    ")\n",
    "for row in session.execute(stmt):\n",
    "    print(f\"{row.Address.email_address} {row.Address.user.name}\")"
   ],
   "metadata": {
    "collapsed": false,
    "ExecuteTime": {
     "end_time": "2024-12-25T09:47:53.091044400Z",
     "start_time": "2024-12-25T09:47:53.076871600Z"
    }
   },
   "id": "2b8b75b4d3de6add"
  },
  {
   "cell_type": "code",
   "execution_count": 82,
   "outputs": [
    {
     "name": "stdout",
     "output_type": "stream",
     "text": [
      "SELECT address.id, address.email_address, address.user_id, user_account_1.id AS id_1, user_account_1.name, user_account_1.fullname \n",
      "FROM address JOIN user_account ON user_account.id = address.user_id LEFT OUTER JOIN user_account AS user_account_1 ON user_account_1.id = address.user_id \n",
      "WHERE user_account.name = :name_1 ORDER BY address.id\n"
     ]
    }
   ],
   "source": [
    "stmt = (\n",
    "    select(Address)\n",
    "    .join(Address.user)\n",
    "    .where(User.name == \"pkrabs\")\n",
    "    .options(joinedload(Address.user))\n",
    "    .order_by(Address.id)\n",
    ")\n",
    "print(stmt)  # SELECT has a JOIN and LEFT OUTER JOIN unnecessarily"
   ],
   "metadata": {
    "collapsed": false,
    "ExecuteTime": {
     "end_time": "2024-12-25T09:48:43.059866800Z",
     "start_time": "2024-12-25T09:48:43.051868900Z"
    }
   },
   "id": "70d29947602c86a8"
  },
  {
   "cell_type": "markdown",
   "source": [
    "加载介绍网址: https://docs.sqlalchemy.org/en/20/tutorial/orm_related_objects.html"
   ],
   "metadata": {
    "collapsed": false
   },
   "id": "cbd89b04278ba34c"
  }
 ],
 "metadata": {
  "kernelspec": {
   "display_name": "Python 3",
   "language": "python",
   "name": "python3"
  },
  "language_info": {
   "codemirror_mode": {
    "name": "ipython",
    "version": 2
   },
   "file_extension": ".py",
   "mimetype": "text/x-python",
   "name": "python",
   "nbconvert_exporter": "python",
   "pygments_lexer": "ipython2",
   "version": "2.7.6"
  }
 },
 "nbformat": 4,
 "nbformat_minor": 5
}
