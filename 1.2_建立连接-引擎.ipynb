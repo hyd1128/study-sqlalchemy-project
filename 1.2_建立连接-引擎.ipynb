{
 "cells": [
  {
   "cell_type": "code",
   "execution_count": 1,
   "id": "initial_id",
   "metadata": {
    "collapsed": true,
    "ExecuteTime": {
     "end_time": "2024-12-24T09:17:19.746884600Z",
     "start_time": "2024-12-24T09:17:19.590933700Z"
    }
   },
   "outputs": [],
   "source": [
    "from sqlalchemy import create_engine\n"
   ]
  },
  {
   "cell_type": "code",
   "execution_count": 2,
   "outputs": [],
   "source": [
    "engine = create_engine(\"sqlite+pysqlite:///:memory:\", echo=True)"
   ],
   "metadata": {
    "collapsed": false,
    "ExecuteTime": {
     "end_time": "2024-12-24T09:17:51.372336600Z",
     "start_time": "2024-12-24T09:17:51.319303600Z"
    }
   },
   "id": "151ed49bb3e4bce6"
  },
  {
   "cell_type": "markdown",
   "source": [
    "当create_engine()第一次返回Engine时，它实际上还没有尝试连接到数据库；这种情况仅在第一次被要求对数据库执行任务时发生。这是一种称为延迟初始化的软件设计模式。"
   ],
   "metadata": {
    "collapsed": false
   },
   "id": "66b01896ec52e2c5"
  },
  {
   "cell_type": "code",
   "execution_count": null,
   "outputs": [],
   "source": [],
   "metadata": {
    "collapsed": false
   },
   "id": "806b4632a2f81788"
  }
 ],
 "metadata": {
  "kernelspec": {
   "display_name": "Python 3",
   "language": "python",
   "name": "python3"
  },
  "language_info": {
   "codemirror_mode": {
    "name": "ipython",
    "version": 2
   },
   "file_extension": ".py",
   "mimetype": "text/x-python",
   "name": "python",
   "nbconvert_exporter": "python",
   "pygments_lexer": "ipython2",
   "version": "2.7.6"
  }
 },
 "nbformat": 4,
 "nbformat_minor": 5
}
